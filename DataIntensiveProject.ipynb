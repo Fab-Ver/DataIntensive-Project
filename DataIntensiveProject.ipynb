{
 "cells": [
  {
   "cell_type": "markdown",
   "metadata": {},
   "source": [
    "# Stima dei livelli di obesità in base alle abitudini alimentari e alle condizioni fisiche\n",
    "Progetto di Programmazione di Applicazioni Data Intensive - 2022/2023\n",
    "\n",
    "**Realizzato da:** Fabio Veroli fabio.veroli@studio.unibo.it"
   ]
  },
  {
   "cell_type": "code",
   "execution_count": 1,
   "metadata": {},
   "outputs": [],
   "source": [
    "import numpy as np\n",
    "import pandas as pd\n",
    "import matplotlib.pyplot as plt\n",
    "\n",
    "%matplotlib inline"
   ]
  },
  {
   "cell_type": "markdown",
   "metadata": {},
   "source": [
    "## Caricamento dei dati\n",
    "L'obbiettivo del problema che andremo a studiare è stimare il livello di obesità di una persona in base alle sue abitudini alimentari e alle sue condizioni fisiche. \n",
    "\n",
    "Il dataset utilizzato, consultabile presso [UCI Machine Learning Repository](https://archive.ics.uci.edu/dataset/544/estimation+of+obesity+levels+based+on+eating+habits+and+physical+condition), riguarda i dati di circa 2000 individui provenienti da Messico, Peru e Colombia; il 23% dei dati è stato ottenuto da un sondaggio online, mentre il restante 77% è stato generato sinteticamente utilizzando lo strumento Weka e il filtro SMOTE. "
   ]
  },
  {
   "cell_type": "code",
   "execution_count": 2,
   "metadata": {},
   "outputs": [
    {
     "data": {
      "text/html": [
       "<div>\n",
       "<style scoped>\n",
       "    .dataframe tbody tr th:only-of-type {\n",
       "        vertical-align: middle;\n",
       "    }\n",
       "\n",
       "    .dataframe tbody tr th {\n",
       "        vertical-align: top;\n",
       "    }\n",
       "\n",
       "    .dataframe thead th {\n",
       "        text-align: right;\n",
       "    }\n",
       "</style>\n",
       "<table border=\"1\" class=\"dataframe\">\n",
       "  <thead>\n",
       "    <tr style=\"text-align: right;\">\n",
       "      <th></th>\n",
       "      <th>Gender</th>\n",
       "      <th>Age</th>\n",
       "      <th>Height</th>\n",
       "      <th>Weight</th>\n",
       "      <th>family_history_with_overweight</th>\n",
       "      <th>FAVC</th>\n",
       "      <th>FCVC</th>\n",
       "      <th>NCP</th>\n",
       "      <th>CAEC</th>\n",
       "      <th>SMOKE</th>\n",
       "      <th>CH2O</th>\n",
       "      <th>SCC</th>\n",
       "      <th>FAF</th>\n",
       "      <th>TUE</th>\n",
       "      <th>CALC</th>\n",
       "      <th>MTRANS</th>\n",
       "      <th>NObeyesdad</th>\n",
       "    </tr>\n",
       "  </thead>\n",
       "  <tbody>\n",
       "    <tr>\n",
       "      <th>0</th>\n",
       "      <td>Female</td>\n",
       "      <td>21.0</td>\n",
       "      <td>1.62</td>\n",
       "      <td>64.0</td>\n",
       "      <td>yes</td>\n",
       "      <td>no</td>\n",
       "      <td>2.0</td>\n",
       "      <td>3.0</td>\n",
       "      <td>Sometimes</td>\n",
       "      <td>no</td>\n",
       "      <td>2.0</td>\n",
       "      <td>no</td>\n",
       "      <td>0.0</td>\n",
       "      <td>1.0</td>\n",
       "      <td>no</td>\n",
       "      <td>Public_Transportation</td>\n",
       "      <td>Normal_Weight</td>\n",
       "    </tr>\n",
       "    <tr>\n",
       "      <th>1</th>\n",
       "      <td>Female</td>\n",
       "      <td>21.0</td>\n",
       "      <td>1.52</td>\n",
       "      <td>56.0</td>\n",
       "      <td>yes</td>\n",
       "      <td>no</td>\n",
       "      <td>3.0</td>\n",
       "      <td>3.0</td>\n",
       "      <td>Sometimes</td>\n",
       "      <td>yes</td>\n",
       "      <td>3.0</td>\n",
       "      <td>yes</td>\n",
       "      <td>3.0</td>\n",
       "      <td>0.0</td>\n",
       "      <td>Sometimes</td>\n",
       "      <td>Public_Transportation</td>\n",
       "      <td>Normal_Weight</td>\n",
       "    </tr>\n",
       "    <tr>\n",
       "      <th>2</th>\n",
       "      <td>Male</td>\n",
       "      <td>23.0</td>\n",
       "      <td>1.80</td>\n",
       "      <td>77.0</td>\n",
       "      <td>yes</td>\n",
       "      <td>no</td>\n",
       "      <td>2.0</td>\n",
       "      <td>3.0</td>\n",
       "      <td>Sometimes</td>\n",
       "      <td>no</td>\n",
       "      <td>2.0</td>\n",
       "      <td>no</td>\n",
       "      <td>2.0</td>\n",
       "      <td>1.0</td>\n",
       "      <td>Frequently</td>\n",
       "      <td>Public_Transportation</td>\n",
       "      <td>Normal_Weight</td>\n",
       "    </tr>\n",
       "    <tr>\n",
       "      <th>3</th>\n",
       "      <td>Male</td>\n",
       "      <td>27.0</td>\n",
       "      <td>1.80</td>\n",
       "      <td>87.0</td>\n",
       "      <td>no</td>\n",
       "      <td>no</td>\n",
       "      <td>3.0</td>\n",
       "      <td>3.0</td>\n",
       "      <td>Sometimes</td>\n",
       "      <td>no</td>\n",
       "      <td>2.0</td>\n",
       "      <td>no</td>\n",
       "      <td>2.0</td>\n",
       "      <td>0.0</td>\n",
       "      <td>Frequently</td>\n",
       "      <td>Walking</td>\n",
       "      <td>Overweight_Level_I</td>\n",
       "    </tr>\n",
       "    <tr>\n",
       "      <th>4</th>\n",
       "      <td>Male</td>\n",
       "      <td>22.0</td>\n",
       "      <td>1.78</td>\n",
       "      <td>89.8</td>\n",
       "      <td>no</td>\n",
       "      <td>no</td>\n",
       "      <td>2.0</td>\n",
       "      <td>1.0</td>\n",
       "      <td>Sometimes</td>\n",
       "      <td>no</td>\n",
       "      <td>2.0</td>\n",
       "      <td>no</td>\n",
       "      <td>0.0</td>\n",
       "      <td>0.0</td>\n",
       "      <td>Sometimes</td>\n",
       "      <td>Public_Transportation</td>\n",
       "      <td>Overweight_Level_II</td>\n",
       "    </tr>\n",
       "  </tbody>\n",
       "</table>\n",
       "</div>"
      ],
      "text/plain": [
       "   Gender   Age  Height  Weight family_history_with_overweight FAVC  FCVC  \\\n",
       "0  Female  21.0    1.62    64.0                            yes   no   2.0   \n",
       "1  Female  21.0    1.52    56.0                            yes   no   3.0   \n",
       "2    Male  23.0    1.80    77.0                            yes   no   2.0   \n",
       "3    Male  27.0    1.80    87.0                             no   no   3.0   \n",
       "4    Male  22.0    1.78    89.8                             no   no   2.0   \n",
       "\n",
       "   NCP       CAEC SMOKE  CH2O  SCC  FAF  TUE        CALC  \\\n",
       "0  3.0  Sometimes    no   2.0   no  0.0  1.0          no   \n",
       "1  3.0  Sometimes   yes   3.0  yes  3.0  0.0   Sometimes   \n",
       "2  3.0  Sometimes    no   2.0   no  2.0  1.0  Frequently   \n",
       "3  3.0  Sometimes    no   2.0   no  2.0  0.0  Frequently   \n",
       "4  1.0  Sometimes    no   2.0   no  0.0  0.0   Sometimes   \n",
       "\n",
       "                  MTRANS           NObeyesdad  \n",
       "0  Public_Transportation        Normal_Weight  \n",
       "1  Public_Transportation        Normal_Weight  \n",
       "2  Public_Transportation        Normal_Weight  \n",
       "3                Walking   Overweight_Level_I  \n",
       "4  Public_Transportation  Overweight_Level_II  "
      ]
     },
     "execution_count": 2,
     "metadata": {},
     "output_type": "execute_result"
    }
   ],
   "source": [
    "df = pd.read_csv(\"https://raw.githubusercontent.com/Fab-Ver/DataIntensive-Project/main/data/ObesityDataSet.csv\",delimiter=',')\n",
    "df.head(5)"
   ]
  },
  {
   "cell_type": "markdown",
   "metadata": {},
   "source": [
    "### Significato delle colonne\n",
    "Le feature presenti nel dataset sono: \n",
    "- `Gender`: genere dell'individuo. Possibili valori: Female o Male\n",
    "- `Age`: età dell'individuo (valore numerico)\n",
    "- `Height`: altezza dell'individuo in metri (valore numerico)\n",
    "- `Weight`: peso dell'individuo in kilogrammi (valore numerico)\n",
    "- `family_history_with_overweight`: indica se nella famiglia dell'individuo sono presenti altri familiari che soffrono di obesità. Possibili valori: yes o no\n",
    "- `FAVC`: indica se l'individuo consuma frequentemente cibi ad alto contenuto calorico. Possibili valori: yes o no\n",
    "- `FCVC`: indica quanto spesso l'individuo mangia verdure durante i pasti. Possibili valori: Never (1), Sometimes (2), Always (3)\n",
    "- `NCP`: numero di pasti principali consumati dall'individuo in un giorno (valore numerico)\n",
    "- `CAEC`: indica quanto spesso l'individuo consuma cibi tra due pasti. Possibili valori: No, Sometimes, Frequently, Always\n",
    "- `SMOKE`: indica se l'individuo fuma. Possibili valori: yes o no\n",
    "- `CH20`: indica il consumo giornaliero di acqua. Possibili valori: less than a liter (1), between 1 and 2L (2), more than 2L (3)\n",
    "- `SCC`: indica se l'individuo monitora le calorie che assume giornalemente. Possibili valori: yes o no\n",
    "- `FAF`: indica il numero di giorni in una settimana in cui l'individuo effettua attività fisica. Possibili valori: never (0), 1-2 days (1), 2-4 days (2), 4-5 days (3)\n",
    "- `TUE`: indica il numero di ore giornaliere passate utilizzando dispositivi tecnologici come cellulare, videogiochi, televisione, computer. Possibili valori: 0-2 hours (0), 3-5 hours (1), more than 5 hours (2)\n",
    "- `CALC`: indica quanto spesso l'individuo consuma alcol. Possibili valori: No, Sometimes, Frequently, Always\n",
    "- `MTRANS`: tipo di mezzo di trasporto utilizzato dall'individuo. Possibili valori: 'Public_Transportation', 'Walking', 'Automobile', 'Motorbike', 'Bike'\n",
    "\n",
    "La variabile che tenteremo di predirre è: \n",
    "- `NObeyesdad`: classificazione dei livelli di obesità basata sull'indice di massa corporea (BMI) secondo la WHO e la normativa messicana."
   ]
  },
  {
   "cell_type": "markdown",
   "metadata": {},
   "source": [
    "Modificihiamo i nomi delle colonne per renderli più esplicativi al fine dello studio del problema. "
   ]
  },
  {
   "cell_type": "code",
   "execution_count": 3,
   "metadata": {},
   "outputs": [],
   "source": [
    "col_names = {\n",
    "    \"Gender\" : \"gender\",\n",
    "    \"Age\" : \"age\",\n",
    "    \"Height\" : \"height\",\n",
    "    \"Weight\" : \"weight\",\n",
    "    \"family_history_with_overweight\" : \"overweight_in_family\",\n",
    "    \"FAVC\" : \"high_caloric_food_frequently\",\n",
    "    \"FCVC\" : \"freq_vegetables_cons\",\n",
    "    \"NCP\" : \"num_meals\",\n",
    "    \"CAEC\" : \"freq_cons_food_between_meals\",\n",
    "    \"SMOKE\" : \"smoke\",\n",
    "    \"CH2O\" : \"water_cons\",\n",
    "    \"SCC\" : \"cal_cons_monitoring\",\n",
    "    \"FAF\" : \"freq_physical_activity\",\n",
    "    \"TUE\" : \"time_using_technology\",\n",
    "    \"CALC\" : \"freq_alcohol_cons\",\n",
    "    \"MTRANS\" : \"transportation\",\n",
    "    \"NObeyesdad\": \"BMI_classification\",\n",
    "}\n",
    "df.rename(columns=col_names,inplace=True)"
   ]
  },
  {
   "cell_type": "code",
   "execution_count": 4,
   "metadata": {},
   "outputs": [
    {
     "name": "stdout",
     "output_type": "stream",
     "text": [
      "<class 'pandas.core.frame.DataFrame'>\n",
      "RangeIndex: 2111 entries, 0 to 2110\n",
      "Data columns (total 17 columns):\n",
      " #   Column                        Non-Null Count  Dtype  \n",
      "---  ------                        --------------  -----  \n",
      " 0   gender                        2111 non-null   object \n",
      " 1   age                           2111 non-null   float64\n",
      " 2   height                        2111 non-null   float64\n",
      " 3   weight                        2111 non-null   float64\n",
      " 4   overweight_in_family          2111 non-null   object \n",
      " 5   high_caloric_food_frequently  2111 non-null   object \n",
      " 6   freq_vegetables_cons          2111 non-null   float64\n",
      " 7   num_meals                     2111 non-null   float64\n",
      " 8   freq_cons_food_between_meals  2111 non-null   object \n",
      " 9   smoke                         2111 non-null   object \n",
      " 10  water_cons                    2111 non-null   float64\n",
      " 11  cal_cons_monitoring           2111 non-null   object \n",
      " 12  freq_physical_activity        2111 non-null   float64\n",
      " 13  time_using_technology         2111 non-null   float64\n",
      " 14  freq_alcohol_cons             2111 non-null   object \n",
      " 15  transportation                2111 non-null   object \n",
      " 16  BMI_classification            2111 non-null   object \n",
      "dtypes: float64(8), object(9)\n",
      "memory usage: 1.3 MB\n"
     ]
    }
   ],
   "source": [
    "df.info(memory_usage=\"deep\")"
   ]
  },
  {
   "cell_type": "markdown",
   "metadata": {},
   "source": [
    "Dall'analisi dell'utilizzo della memoria emerge che il dataframe occupa molto spazio in memoria a causa di alcuni attributi rappresentati come oggetti. Passiamo quindi a classificare gli attributi in categorici, booleani e numerici, in modo da rappresentare gli attributi con tipi di dati più efficienti. "
   ]
  },
  {
   "cell_type": "code",
   "execution_count": 4,
   "metadata": {},
   "outputs": [],
   "source": [
    "cat_vars = [\"gender\", \"freq_vegetables_cons\", \"freq_cons_food_between_meals\", \n",
    "           \"water_cons\", \"freq_alcohol_cons\", \"freq_physical_activity\", \"time_using_technology\",\n",
    "           \"transportation\", \"BMI_classification\"]\n",
    "bool_vars = [\"overweight_in_family\", \"high_caloric_food_frequently\", \"smoke\", \"cal_cons_monitoring\"]\n",
    "int_vars = [\"age\", \"num_meals\"]\n",
    "float_vars = [\"height\", \"weight\"]"
   ]
  },
  {
   "cell_type": "markdown",
   "metadata": {},
   "source": [
    "Convertiamo tutte gli attributi con valori possibili `yes` o `no` in attributi booleani."
   ]
  },
  {
   "cell_type": "code",
   "execution_count": 5,
   "metadata": {},
   "outputs": [],
   "source": [
    "mapping = {\"yes\" : True, \"no\" : False}\n",
    "for col_name in bool_vars: \n",
    "    df[col_name] = df[col_name].map(mapping)"
   ]
  },
  {
   "cell_type": "markdown",
   "metadata": {},
   "source": [
    "Per le variabili `age` e `num_meals` tronchiamo i valori decimali in modo da ottenere un valore intero."
   ]
  },
  {
   "cell_type": "code",
   "execution_count": 8,
   "metadata": {},
   "outputs": [],
   "source": [
    "for col_name in int_vars:\n",
    "    df[col_name] = df[col_name].astype(int)"
   ]
  },
  {
   "cell_type": "markdown",
   "metadata": {},
   "source": [
    "Alcuni attributi catagorici sono rappresentati in formato numerico, mentre altre in formato di stringa. Rappresentiamo tutti gli attributi che rappresentano una quantità misurabile utilizzando dei numeri crescenti. Per alcuni attributi già in formato numerico è necessario effettuare una conversione in quanto i dati importati risultano incorretti.  "
   ]
  },
  {
   "cell_type": "code",
   "execution_count": 6,
   "metadata": {},
   "outputs": [],
   "source": [
    "mapping_cat_to_num = {\"no\" : 0, \"Sometimes\" : 1, \"Frequently\" : 2, \"Always\" : 3}\n",
    "df[\"freq_cons_food_between_meals\"] = df[\"freq_cons_food_between_meals\"].map(mapping_cat_to_num)\n",
    "df[\"freq_alcohol_cons\"] = df[\"freq_alcohol_cons\"].map(mapping_cat_to_num)\n",
    "\n",
    "#for col_name in [\"freq_vegetables_cons\",\"water_cons\", \"freq_physical_activity\", \"time_using_technology\"]:\n",
    "#    df[col_name] = df[col_name].astype(int)\n",
    "\n",
    "for col_name in cat_vars:\n",
    "    df[col_name] = df[col_name].astype('category')"
   ]
  },
  {
   "cell_type": "markdown",
   "metadata": {},
   "source": [
    "Come si può notare dal seguente comando l'occupazione di memoria del dataset è stata drasticamente ridotta, classififcando in modo adeguato tutti i dati."
   ]
  },
  {
   "cell_type": "code",
   "execution_count": 8,
   "metadata": {},
   "outputs": [
    {
     "name": "stdout",
     "output_type": "stream",
     "text": [
      "<class 'pandas.core.frame.DataFrame'>\n",
      "RangeIndex: 2111 entries, 0 to 2110\n",
      "Data columns (total 17 columns):\n",
      " #   Column                        Non-Null Count  Dtype   \n",
      "---  ------                        --------------  -----   \n",
      " 0   gender                        2111 non-null   category\n",
      " 1   age                           2111 non-null   float64 \n",
      " 2   height                        2111 non-null   float64 \n",
      " 3   weight                        2111 non-null   float64 \n",
      " 4   overweight_in_family          2111 non-null   bool    \n",
      " 5   high_caloric_food_frequently  2111 non-null   bool    \n",
      " 6   freq_vegetables_cons          2111 non-null   category\n",
      " 7   num_meals                     2111 non-null   float64 \n",
      " 8   freq_cons_food_between_meals  2111 non-null   category\n",
      " 9   smoke                         2111 non-null   bool    \n",
      " 10  water_cons                    2111 non-null   category\n",
      " 11  cal_cons_monitoring           2111 non-null   bool    \n",
      " 12  freq_physical_activity        2111 non-null   category\n",
      " 13  time_using_technology         2111 non-null   category\n",
      " 14  freq_alcohol_cons             2111 non-null   category\n",
      " 15  transportation                2111 non-null   category\n",
      " 16  BMI_classification            2111 non-null   category\n",
      "dtypes: bool(4), category(9), float64(4)\n",
      "memory usage: 266.6 KB\n"
     ]
    }
   ],
   "source": [
    "df.info(memory_usage=\"deep\")"
   ]
  },
  {
   "cell_type": "code",
   "execution_count": 9,
   "metadata": {},
   "outputs": [
    {
     "data": {
      "text/html": [
       "<div>\n",
       "<style scoped>\n",
       "    .dataframe tbody tr th:only-of-type {\n",
       "        vertical-align: middle;\n",
       "    }\n",
       "\n",
       "    .dataframe tbody tr th {\n",
       "        vertical-align: top;\n",
       "    }\n",
       "\n",
       "    .dataframe thead th {\n",
       "        text-align: right;\n",
       "    }\n",
       "</style>\n",
       "<table border=\"1\" class=\"dataframe\">\n",
       "  <thead>\n",
       "    <tr style=\"text-align: right;\">\n",
       "      <th></th>\n",
       "      <th>gender</th>\n",
       "      <th>age</th>\n",
       "      <th>height</th>\n",
       "      <th>weight</th>\n",
       "      <th>overweight_in_family</th>\n",
       "      <th>high_caloric_food_frequently</th>\n",
       "      <th>freq_vegetables_cons</th>\n",
       "      <th>num_meals</th>\n",
       "      <th>freq_cons_food_between_meals</th>\n",
       "      <th>smoke</th>\n",
       "      <th>water_cons</th>\n",
       "      <th>cal_cons_monitoring</th>\n",
       "      <th>freq_physical_activity</th>\n",
       "      <th>time_using_technology</th>\n",
       "      <th>freq_alcohol_cons</th>\n",
       "      <th>transportation</th>\n",
       "      <th>BMI_classification</th>\n",
       "    </tr>\n",
       "  </thead>\n",
       "  <tbody>\n",
       "    <tr>\n",
       "      <th>0</th>\n",
       "      <td>Female</td>\n",
       "      <td>21.0</td>\n",
       "      <td>1.62</td>\n",
       "      <td>64.0</td>\n",
       "      <td>True</td>\n",
       "      <td>False</td>\n",
       "      <td>2.0</td>\n",
       "      <td>3.0</td>\n",
       "      <td>1</td>\n",
       "      <td>False</td>\n",
       "      <td>2.0</td>\n",
       "      <td>False</td>\n",
       "      <td>0.0</td>\n",
       "      <td>1.0</td>\n",
       "      <td>0</td>\n",
       "      <td>Public_Transportation</td>\n",
       "      <td>Normal_Weight</td>\n",
       "    </tr>\n",
       "    <tr>\n",
       "      <th>1</th>\n",
       "      <td>Female</td>\n",
       "      <td>21.0</td>\n",
       "      <td>1.52</td>\n",
       "      <td>56.0</td>\n",
       "      <td>True</td>\n",
       "      <td>False</td>\n",
       "      <td>3.0</td>\n",
       "      <td>3.0</td>\n",
       "      <td>1</td>\n",
       "      <td>True</td>\n",
       "      <td>3.0</td>\n",
       "      <td>True</td>\n",
       "      <td>3.0</td>\n",
       "      <td>0.0</td>\n",
       "      <td>1</td>\n",
       "      <td>Public_Transportation</td>\n",
       "      <td>Normal_Weight</td>\n",
       "    </tr>\n",
       "    <tr>\n",
       "      <th>2</th>\n",
       "      <td>Male</td>\n",
       "      <td>23.0</td>\n",
       "      <td>1.80</td>\n",
       "      <td>77.0</td>\n",
       "      <td>True</td>\n",
       "      <td>False</td>\n",
       "      <td>2.0</td>\n",
       "      <td>3.0</td>\n",
       "      <td>1</td>\n",
       "      <td>False</td>\n",
       "      <td>2.0</td>\n",
       "      <td>False</td>\n",
       "      <td>2.0</td>\n",
       "      <td>1.0</td>\n",
       "      <td>2</td>\n",
       "      <td>Public_Transportation</td>\n",
       "      <td>Normal_Weight</td>\n",
       "    </tr>\n",
       "    <tr>\n",
       "      <th>3</th>\n",
       "      <td>Male</td>\n",
       "      <td>27.0</td>\n",
       "      <td>1.80</td>\n",
       "      <td>87.0</td>\n",
       "      <td>False</td>\n",
       "      <td>False</td>\n",
       "      <td>3.0</td>\n",
       "      <td>3.0</td>\n",
       "      <td>1</td>\n",
       "      <td>False</td>\n",
       "      <td>2.0</td>\n",
       "      <td>False</td>\n",
       "      <td>2.0</td>\n",
       "      <td>0.0</td>\n",
       "      <td>2</td>\n",
       "      <td>Walking</td>\n",
       "      <td>Overweight_Level_I</td>\n",
       "    </tr>\n",
       "    <tr>\n",
       "      <th>4</th>\n",
       "      <td>Male</td>\n",
       "      <td>22.0</td>\n",
       "      <td>1.78</td>\n",
       "      <td>89.8</td>\n",
       "      <td>False</td>\n",
       "      <td>False</td>\n",
       "      <td>2.0</td>\n",
       "      <td>1.0</td>\n",
       "      <td>1</td>\n",
       "      <td>False</td>\n",
       "      <td>2.0</td>\n",
       "      <td>False</td>\n",
       "      <td>0.0</td>\n",
       "      <td>0.0</td>\n",
       "      <td>1</td>\n",
       "      <td>Public_Transportation</td>\n",
       "      <td>Overweight_Level_II</td>\n",
       "    </tr>\n",
       "  </tbody>\n",
       "</table>\n",
       "</div>"
      ],
      "text/plain": [
       "   gender   age  height  weight  overweight_in_family  \\\n",
       "0  Female  21.0    1.62    64.0                  True   \n",
       "1  Female  21.0    1.52    56.0                  True   \n",
       "2    Male  23.0    1.80    77.0                  True   \n",
       "3    Male  27.0    1.80    87.0                 False   \n",
       "4    Male  22.0    1.78    89.8                 False   \n",
       "\n",
       "   high_caloric_food_frequently freq_vegetables_cons  num_meals  \\\n",
       "0                         False                  2.0        3.0   \n",
       "1                         False                  3.0        3.0   \n",
       "2                         False                  2.0        3.0   \n",
       "3                         False                  3.0        3.0   \n",
       "4                         False                  2.0        1.0   \n",
       "\n",
       "  freq_cons_food_between_meals  smoke water_cons  cal_cons_monitoring  \\\n",
       "0                            1  False        2.0                False   \n",
       "1                            1   True        3.0                 True   \n",
       "2                            1  False        2.0                False   \n",
       "3                            1  False        2.0                False   \n",
       "4                            1  False        2.0                False   \n",
       "\n",
       "  freq_physical_activity time_using_technology freq_alcohol_cons  \\\n",
       "0                    0.0                   1.0                 0   \n",
       "1                    3.0                   0.0                 1   \n",
       "2                    2.0                   1.0                 2   \n",
       "3                    2.0                   0.0                 2   \n",
       "4                    0.0                   0.0                 1   \n",
       "\n",
       "          transportation   BMI_classification  \n",
       "0  Public_Transportation        Normal_Weight  \n",
       "1  Public_Transportation        Normal_Weight  \n",
       "2  Public_Transportation        Normal_Weight  \n",
       "3                Walking   Overweight_Level_I  \n",
       "4  Public_Transportation  Overweight_Level_II  "
      ]
     },
     "execution_count": 9,
     "metadata": {},
     "output_type": "execute_result"
    }
   ],
   "source": [
    "df.head()"
   ]
  },
  {
   "cell_type": "markdown",
   "metadata": {},
   "source": [
    "## Analisi Esplorativa"
   ]
  },
  {
   "cell_type": "markdown",
   "metadata": {},
   "source": [
    "Eseguiamo un'analisi di base dei dati, in particolare visualizziamo il numero e la distribuzione delle classi. "
   ]
  },
  {
   "cell_type": "code",
   "execution_count": 10,
   "metadata": {},
   "outputs": [
    {
     "data": {
      "text/plain": [
       "7"
      ]
     },
     "execution_count": 10,
     "metadata": {},
     "output_type": "execute_result"
    }
   ],
   "source": [
    "len(df[\"BMI_classification\"].unique())"
   ]
  },
  {
   "cell_type": "markdown",
   "metadata": {},
   "source": [
    "In totale abbiamo 7 classi che individuano il livello di obesità di una persona, visualizziamo il numero di elementi per ogni classe e la loro distribuzione all'interno del dataset. "
   ]
  },
  {
   "cell_type": "code",
   "execution_count": 11,
   "metadata": {},
   "outputs": [
    {
     "data": {
      "text/plain": [
       "Obesity_Type_I         351\n",
       "Obesity_Type_III       324\n",
       "Obesity_Type_II        297\n",
       "Overweight_Level_I     290\n",
       "Overweight_Level_II    290\n",
       "Normal_Weight          287\n",
       "Insufficient_Weight    272\n",
       "Name: BMI_classification, dtype: int64"
      ]
     },
     "execution_count": 11,
     "metadata": {},
     "output_type": "execute_result"
    }
   ],
   "source": [
    "df[\"BMI_classification\"].value_counts()"
   ]
  },
  {
   "cell_type": "code",
   "execution_count": 12,
   "metadata": {},
   "outputs": [
    {
     "data": {
      "image/png": "[encoded data removed]",
      "text/plain": [
       "<Figure size 2000x600 with 2 Axes>"
      ]
     },
     "metadata": {},
     "output_type": "display_data"
    }
   ],
   "source": [
    "plt.figure(figsize=(20, 6))\n",
    "df[\"BMI_classification\"].value_counts().plot.pie(autopct=\"%.2f%%\",ylabel=\"\",title=\"Classificazione BMI\",ax=plt.subplot(1, 2, 1));\n",
    "df[\"BMI_classification\"].value_counts().plot.bar(title=\"Classificazione BMI\",ax=plt.subplot(1, 2, 2));"
   ]
  },
  {
   "cell_type": "markdown",
   "metadata": {},
   "source": [
    "Come si può notare dai grafici le classi sono pressochè bilanciate. Ci aspettavamo questo risultato in quanto, come da indicazioni del dataset, il 77% dei dati sono stati generati sintenticamente proprio allo scopo di bilanciare le classi per una migliore prestazioni del dataset, che nella sua forma originale costituita dai soli dati raccolti tramite sondaggi presentava uno sbilanciamento con predominazione della classe `Normal`.\n",
    "\n",
    "Possiamo poi ottenere e visualizzare in un grafico alcune statisiche su età, peso, altezza e numero di pasti cosumati da parte di un individuo. "
   ]
  },
  {
   "cell_type": "code",
   "execution_count": 13,
   "metadata": {},
   "outputs": [
    {
     "data": {
      "text/html": [
       "<div>\n",
       "<style scoped>\n",
       "    .dataframe tbody tr th:only-of-type {\n",
       "        vertical-align: middle;\n",
       "    }\n",
       "\n",
       "    .dataframe tbody tr th {\n",
       "        vertical-align: top;\n",
       "    }\n",
       "\n",
       "    .dataframe thead th {\n",
       "        text-align: right;\n",
       "    }\n",
       "</style>\n",
       "<table border=\"1\" class=\"dataframe\">\n",
       "  <thead>\n",
       "    <tr style=\"text-align: right;\">\n",
       "      <th></th>\n",
       "      <th>age</th>\n",
       "      <th>height</th>\n",
       "      <th>weight</th>\n",
       "      <th>num_meals</th>\n",
       "    </tr>\n",
       "  </thead>\n",
       "  <tbody>\n",
       "    <tr>\n",
       "      <th>count</th>\n",
       "      <td>2111.000000</td>\n",
       "      <td>2111.000000</td>\n",
       "      <td>2111.000000</td>\n",
       "      <td>2111.000000</td>\n",
       "    </tr>\n",
       "    <tr>\n",
       "      <th>mean</th>\n",
       "      <td>24.312600</td>\n",
       "      <td>1.701677</td>\n",
       "      <td>86.586058</td>\n",
       "      <td>2.685628</td>\n",
       "    </tr>\n",
       "    <tr>\n",
       "      <th>std</th>\n",
       "      <td>6.345968</td>\n",
       "      <td>0.093305</td>\n",
       "      <td>26.191172</td>\n",
       "      <td>0.778039</td>\n",
       "    </tr>\n",
       "    <tr>\n",
       "      <th>min</th>\n",
       "      <td>14.000000</td>\n",
       "      <td>1.450000</td>\n",
       "      <td>39.000000</td>\n",
       "      <td>1.000000</td>\n",
       "    </tr>\n",
       "    <tr>\n",
       "      <th>25%</th>\n",
       "      <td>19.947192</td>\n",
       "      <td>1.630000</td>\n",
       "      <td>65.473343</td>\n",
       "      <td>2.658738</td>\n",
       "    </tr>\n",
       "    <tr>\n",
       "      <th>50%</th>\n",
       "      <td>22.777890</td>\n",
       "      <td>1.700499</td>\n",
       "      <td>83.000000</td>\n",
       "      <td>3.000000</td>\n",
       "    </tr>\n",
       "    <tr>\n",
       "      <th>75%</th>\n",
       "      <td>26.000000</td>\n",
       "      <td>1.768464</td>\n",
       "      <td>107.430682</td>\n",
       "      <td>3.000000</td>\n",
       "    </tr>\n",
       "    <tr>\n",
       "      <th>max</th>\n",
       "      <td>61.000000</td>\n",
       "      <td>1.980000</td>\n",
       "      <td>173.000000</td>\n",
       "      <td>4.000000</td>\n",
       "    </tr>\n",
       "  </tbody>\n",
       "</table>\n",
       "</div>"
      ],
      "text/plain": [
       "               age       height       weight    num_meals\n",
       "count  2111.000000  2111.000000  2111.000000  2111.000000\n",
       "mean     24.312600     1.701677    86.586058     2.685628\n",
       "std       6.345968     0.093305    26.191172     0.778039\n",
       "min      14.000000     1.450000    39.000000     1.000000\n",
       "25%      19.947192     1.630000    65.473343     2.658738\n",
       "50%      22.777890     1.700499    83.000000     3.000000\n",
       "75%      26.000000     1.768464   107.430682     3.000000\n",
       "max      61.000000     1.980000   173.000000     4.000000"
      ]
     },
     "execution_count": 13,
     "metadata": {},
     "output_type": "execute_result"
    }
   ],
   "source": [
    "df.describe()"
   ]
  },
  {
   "cell_type": "code",
   "execution_count": 14,
   "metadata": {},
   "outputs": [
    {
     "data": {
      "image/png": "[encoded data removed]",
      "text/plain": [
       "<Figure size 2000x1200 with 4 Axes>"
      ]
     },
     "metadata": {},
     "output_type": "display_data"
    }
   ],
   "source": [
    "plt.figure(figsize=(20, 12))\n",
    "for i, col in enumerate([\"age\",\"height\", \"weight\", \"num_meals\"],start=1):\n",
    "    plt.subplot(2,3,i).boxplot(df[col],showmeans=True);"
   ]
  },
  {
   "cell_type": "markdown",
   "metadata": {},
   "source": [
    "Dai grafici si nota che la serie `age` ha molti dati molto distanti dalla mediana (outlier)."
   ]
  },
  {
   "cell_type": "code",
   "execution_count": 15,
   "metadata": {},
   "outputs": [
    {
     "data": {
      "image/png": "[encoded data removed]",
      "text/plain": [
       "<Figure size 2000x600 with 1 Axes>"
      ]
     },
     "metadata": {},
     "output_type": "display_data"
    }
   ],
   "source": [
    "class_colors = df[\"BMI_classification\"].map({\n",
    "    'Normal_Weight': 'Green',\n",
    "    'Overweight_Level_I': 'Yellow',\n",
    "    'Overweight_Level_II': 'Orange',\n",
    "    'Obesity_Type_I': 'Red',\n",
    "    'Insufficient_Weight': 'Blue',\n",
    "    'Obesity_Type_II': 'Purple',\n",
    "    'Obesity_Type_III': 'Brown'\n",
    "})\n",
    "plt.figure(figsize=(20, 6))\n",
    "plt.scatter(df[\"weight\"]/(df[\"height\"]**2),df[\"BMI_classification\"],c=class_colors);\n",
    "plt.xlabel(\"BMI\");\n",
    "plt.ylabel(\"BMI_Classification\");"
   ]
  },
  {
   "cell_type": "markdown",
   "metadata": {},
   "source": [
    "Dal grafico si può notare la correlazione lineare tra la `BMI_classification` e $\\frac{\\text{Weight}}{\\text{Height}\\times \\text{Height}}$, quest'ultima misura rappresenta infatti il BMI di un individuo, che è usato per classificare il livello di obesità. Solo i dati appartenenti alla classe `Insufficient_Weight` sembrano non seguire la stessa tendenza degli altri."
   ]
  },
  {
   "cell_type": "markdown",
   "metadata": {},
   "source": [
    "## Preparazione dei dati"
   ]
  },
  {
   "cell_type": "markdown",
   "metadata": {},
   "source": [
    "Prepariamo i dati per l'addestramento dei modelli. Separiamo la variabile target `BMI_classification` dalle restanti variabili. "
   ]
  },
  {
   "cell_type": "code",
   "execution_count": 7,
   "metadata": {},
   "outputs": [],
   "source": [
    "X = df.drop(columns=[\"BMI_classification\"])\n",
    "y = df[\"BMI_classification\"]"
   ]
  },
  {
   "cell_type": "code",
   "execution_count": 17,
   "metadata": {},
   "outputs": [
    {
     "data": {
      "text/html": [
       "<div>\n",
       "<style scoped>\n",
       "    .dataframe tbody tr th:only-of-type {\n",
       "        vertical-align: middle;\n",
       "    }\n",
       "\n",
       "    .dataframe tbody tr th {\n",
       "        vertical-align: top;\n",
       "    }\n",
       "\n",
       "    .dataframe thead th {\n",
       "        text-align: right;\n",
       "    }\n",
       "</style>\n",
       "<table border=\"1\" class=\"dataframe\">\n",
       "  <thead>\n",
       "    <tr style=\"text-align: right;\">\n",
       "      <th></th>\n",
       "      <th>gender</th>\n",
       "      <th>age</th>\n",
       "      <th>height</th>\n",
       "      <th>weight</th>\n",
       "      <th>overweight_in_family</th>\n",
       "      <th>high_caloric_food_frequently</th>\n",
       "      <th>freq_vegetables_cons</th>\n",
       "      <th>num_meals</th>\n",
       "      <th>freq_cons_food_between_meals</th>\n",
       "      <th>smoke</th>\n",
       "      <th>water_cons</th>\n",
       "      <th>cal_cons_monitoring</th>\n",
       "      <th>freq_physical_activity</th>\n",
       "      <th>time_using_technology</th>\n",
       "      <th>freq_alcohol_cons</th>\n",
       "      <th>transportation</th>\n",
       "    </tr>\n",
       "  </thead>\n",
       "  <tbody>\n",
       "    <tr>\n",
       "      <th>0</th>\n",
       "      <td>Female</td>\n",
       "      <td>21.0</td>\n",
       "      <td>1.62</td>\n",
       "      <td>64.0</td>\n",
       "      <td>True</td>\n",
       "      <td>False</td>\n",
       "      <td>2.0</td>\n",
       "      <td>3.0</td>\n",
       "      <td>1</td>\n",
       "      <td>False</td>\n",
       "      <td>2.0</td>\n",
       "      <td>False</td>\n",
       "      <td>0.0</td>\n",
       "      <td>1.0</td>\n",
       "      <td>0</td>\n",
       "      <td>Public_Transportation</td>\n",
       "    </tr>\n",
       "    <tr>\n",
       "      <th>1</th>\n",
       "      <td>Female</td>\n",
       "      <td>21.0</td>\n",
       "      <td>1.52</td>\n",
       "      <td>56.0</td>\n",
       "      <td>True</td>\n",
       "      <td>False</td>\n",
       "      <td>3.0</td>\n",
       "      <td>3.0</td>\n",
       "      <td>1</td>\n",
       "      <td>True</td>\n",
       "      <td>3.0</td>\n",
       "      <td>True</td>\n",
       "      <td>3.0</td>\n",
       "      <td>0.0</td>\n",
       "      <td>1</td>\n",
       "      <td>Public_Transportation</td>\n",
       "    </tr>\n",
       "    <tr>\n",
       "      <th>2</th>\n",
       "      <td>Male</td>\n",
       "      <td>23.0</td>\n",
       "      <td>1.80</td>\n",
       "      <td>77.0</td>\n",
       "      <td>True</td>\n",
       "      <td>False</td>\n",
       "      <td>2.0</td>\n",
       "      <td>3.0</td>\n",
       "      <td>1</td>\n",
       "      <td>False</td>\n",
       "      <td>2.0</td>\n",
       "      <td>False</td>\n",
       "      <td>2.0</td>\n",
       "      <td>1.0</td>\n",
       "      <td>2</td>\n",
       "      <td>Public_Transportation</td>\n",
       "    </tr>\n",
       "    <tr>\n",
       "      <th>3</th>\n",
       "      <td>Male</td>\n",
       "      <td>27.0</td>\n",
       "      <td>1.80</td>\n",
       "      <td>87.0</td>\n",
       "      <td>False</td>\n",
       "      <td>False</td>\n",
       "      <td>3.0</td>\n",
       "      <td>3.0</td>\n",
       "      <td>1</td>\n",
       "      <td>False</td>\n",
       "      <td>2.0</td>\n",
       "      <td>False</td>\n",
       "      <td>2.0</td>\n",
       "      <td>0.0</td>\n",
       "      <td>2</td>\n",
       "      <td>Walking</td>\n",
       "    </tr>\n",
       "    <tr>\n",
       "      <th>4</th>\n",
       "      <td>Male</td>\n",
       "      <td>22.0</td>\n",
       "      <td>1.78</td>\n",
       "      <td>89.8</td>\n",
       "      <td>False</td>\n",
       "      <td>False</td>\n",
       "      <td>2.0</td>\n",
       "      <td>1.0</td>\n",
       "      <td>1</td>\n",
       "      <td>False</td>\n",
       "      <td>2.0</td>\n",
       "      <td>False</td>\n",
       "      <td>0.0</td>\n",
       "      <td>0.0</td>\n",
       "      <td>1</td>\n",
       "      <td>Public_Transportation</td>\n",
       "    </tr>\n",
       "  </tbody>\n",
       "</table>\n",
       "</div>"
      ],
      "text/plain": [
       "   gender   age  height  weight  overweight_in_family  \\\n",
       "0  Female  21.0    1.62    64.0                  True   \n",
       "1  Female  21.0    1.52    56.0                  True   \n",
       "2    Male  23.0    1.80    77.0                  True   \n",
       "3    Male  27.0    1.80    87.0                 False   \n",
       "4    Male  22.0    1.78    89.8                 False   \n",
       "\n",
       "   high_caloric_food_frequently freq_vegetables_cons  num_meals  \\\n",
       "0                         False                  2.0        3.0   \n",
       "1                         False                  3.0        3.0   \n",
       "2                         False                  2.0        3.0   \n",
       "3                         False                  3.0        3.0   \n",
       "4                         False                  2.0        1.0   \n",
       "\n",
       "  freq_cons_food_between_meals  smoke water_cons  cal_cons_monitoring  \\\n",
       "0                            1  False        2.0                False   \n",
       "1                            1   True        3.0                 True   \n",
       "2                            1  False        2.0                False   \n",
       "3                            1  False        2.0                False   \n",
       "4                            1  False        2.0                False   \n",
       "\n",
       "  freq_physical_activity time_using_technology freq_alcohol_cons  \\\n",
       "0                    0.0                   1.0                 0   \n",
       "1                    3.0                   0.0                 1   \n",
       "2                    2.0                   1.0                 2   \n",
       "3                    2.0                   0.0                 2   \n",
       "4                    0.0                   0.0                 1   \n",
       "\n",
       "          transportation  \n",
       "0  Public_Transportation  \n",
       "1  Public_Transportation  \n",
       "2  Public_Transportation  \n",
       "3                Walking  \n",
       "4  Public_Transportation  "
      ]
     },
     "execution_count": 17,
     "metadata": {},
     "output_type": "execute_result"
    }
   ],
   "source": [
    "X.head()"
   ]
  },
  {
   "cell_type": "code",
   "execution_count": 18,
   "metadata": {},
   "outputs": [
    {
     "data": {
      "text/plain": [
       "0          Normal_Weight\n",
       "1          Normal_Weight\n",
       "2          Normal_Weight\n",
       "3     Overweight_Level_I\n",
       "4    Overweight_Level_II\n",
       "Name: BMI_classification, dtype: category\n",
       "Categories (7, object): ['Insufficient_Weight', 'Normal_Weight', 'Obesity_Type_I', 'Obesity_Type_II', 'Obesity_Type_III', 'Overweight_Level_I', 'Overweight_Level_II']"
      ]
     },
     "execution_count": 18,
     "metadata": {},
     "output_type": "execute_result"
    }
   ],
   "source": [
    "y.head()"
   ]
  },
  {
   "cell_type": "markdown",
   "metadata": {},
   "source": [
    "Suddividiamo il dataset in training e validation set. "
   ]
  },
  {
   "cell_type": "code",
   "execution_count": 8,
   "metadata": {},
   "outputs": [],
   "source": [
    "from sklearn.model_selection import train_test_split\n",
    "X_train, X_test, y_train, y_test = train_test_split(X, y, test_size=1/3, random_state=42)"
   ]
  },
  {
   "cell_type": "markdown",
   "metadata": {},
   "source": [
    "## Modelli"
   ]
  },
  {
   "cell_type": "markdown",
   "metadata": {},
   "source": [
    "Addestriamo e validiamo i seguenti modelli di predizione:\n",
    "- `Perceptron`\n",
    "- `LogisticRegression`\n",
    "- `DecisionTreeClassifier`\n",
    "\n",
    "Importiamo le librerie che utilizzeremo in seguito"
   ]
  },
  {
   "cell_type": "code",
   "execution_count": 9,
   "metadata": {},
   "outputs": [],
   "source": [
    "from sklearn.linear_model import Perceptron\n",
    "from sklearn.linear_model import LogisticRegression\n",
    "from sklearn.tree import DecisionTreeClassifier\n",
    "from sklearn.model_selection import StratifiedKFold\n",
    "from sklearn.model_selection import GridSearchCV\n",
    "from sklearn.compose import ColumnTransformer\n",
    "from sklearn.preprocessing import OneHotEncoder\n",
    "from sklearn.preprocessing import StandardScaler\n",
    "from sklearn.preprocessing import MinMaxScaler\n",
    "from sklearn.pipeline import Pipeline"
   ]
  },
  {
   "cell_type": "markdown",
   "metadata": {},
   "source": [
    "Per la valutazione dei modelli e la ricerca degli iperparametri che massimizzino le performace dei modelli utilizziamo la **Nested Cross Validation**  con `StratifiedKFold` a 3 fold. Definiamo quindi una funzione generale che utilizzeremo per la valutazione di ogni modello."
   ]
  },
  {
   "cell_type": "code",
   "execution_count": 10,
   "metadata": {},
   "outputs": [],
   "source": [
    "skf = StratifiedKFold(3, shuffle=True, random_state=42)\n",
    "\n",
    "def grid_search(model, grid):\n",
    "    gs = GridSearchCV(model, grid, cv=skf, n_jobs=-1, scoring=\"accuracy\")\n",
    "    gs.fit(X_train, y_train)\n",
    "    return gs"
   ]
  },
  {
   "cell_type": "markdown",
   "metadata": {},
   "source": [
    "Per verificare l'affidabilità dei modelli nella predizioni utilizziamo come metriche la matrice di confusione, precision, recall e f1-score."
   ]
  },
  {
   "cell_type": "code",
   "execution_count": 11,
   "metadata": {},
   "outputs": [],
   "source": [
    "from sklearn.metrics import confusion_matrix, precision_score, recall_score, f1_score\n",
    "\n",
    "def get_confusion_matrix(model):\n",
    "    y_pred = model.predict(X_test)\n",
    "    cm = confusion_matrix(y_test, y_pred)\n",
    "    return pd.DataFrame(cm, index=model.classes_,columns=model.classes_)\n",
    "\n",
    "def get_precision_recall_f1(model):\n",
    "    y_pred = model.predict(X_test)\n",
    "    stats = pd.DataFrame([precision_score(y_test,y_pred,average=None), recall_score(y_test,y_pred,average=None), f1_score(y_test,y_pred,average=None)],index=[\"Precision\",\"Recall\",\"F1\"],columns=model.classes_)\n",
    "    avarage_stats = pd.Series([precision_score(y_test,y_pred,average=\"macro\"), recall_score(y_test,y_pred,average=\"macro\"), f1_score(y_test,y_pred,average=\"macro\")],index=[\"Precision\",\"Recall\",\"F1\"])\n",
    "    return stats, avarage_stats"
   ]
  },
  {
   "cell_type": "markdown",
   "metadata": {},
   "source": [
    "### Perceptron"
   ]
  },
  {
   "cell_type": "markdown",
   "metadata": {},
   "source": [
    "Definiamo un filtro per la trasformazione dei dati tramite `ColumnTransformer`, il filtro è comune a tutti i modelli."
   ]
  },
  {
   "cell_type": "code",
   "execution_count": 12,
   "metadata": {},
   "outputs": [],
   "source": [
    "preprocessor = ColumnTransformer([\n",
    "        (\"numeric\", ..., int_vars + float_vars),\n",
    "        (\"boolean\",..., bool_vars),\n",
    "        (\"categorical\", OneHotEncoder(handle_unknown='ignore'), [c for c in cat_vars if c != \"BMI_classification\"] )\n",
    "    ])"
   ]
  },
  {
   "cell_type": "code",
   "execution_count": 13,
   "metadata": {},
   "outputs": [],
   "source": [
    "perceptron_model = Pipeline([\n",
    "    (\"preprocessor\", preprocessor),\n",
    "    (\"perceptron\", Perceptron(random_state=42))\n",
    "])\n",
    "\n",
    "perceptron_grid = [\n",
    "    {\n",
    "        \"preprocessor__numeric\" : [\"passthrough\", StandardScaler(), MinMaxScaler()],\n",
    "        \"preprocessor__boolean\" : [\"passthrough\", StandardScaler()],\n",
    "        \"preprocessor__categorical__drop\" : [None, \"first\"],\n",
    "        'perceptron__penalty': ['l1', 'l2'],\n",
    "        'perceptron__alpha': np.logspace(-5, 3, 9),\n",
    "        'perceptron__fit_intercept': [False, True],\n",
    "    },\n",
    "    {\n",
    "        \"preprocessor__numeric\" : [\"passthrough\", StandardScaler(), MinMaxScaler()],\n",
    "        \"preprocessor__boolean\" : [\"passthrough\", StandardScaler()],\n",
    "        \"preprocessor__categorical__drop\" : [None, \"first\"],\n",
    "        'perceptron__penalty': ['elasticnet'],\n",
    "        'perceptron__alpha': np.logspace(-5, 3, 9),\n",
    "        'perceptron__l1_ratio': [0.1, 0.2, 0.3, 0.4, 0.5, 0.6, 0.7, 0.8, 0.9],\n",
    "        'perceptron__fit_intercept': [False, True],\n",
    "    },\n",
    "    {\n",
    "        \"preprocessor__numeric\" : [\"passthrough\", StandardScaler(), MinMaxScaler()],\n",
    "        \"preprocessor__boolean\" : [\"passthrough\", StandardScaler()],\n",
    "        \"preprocessor__categorical__drop\" : [None, \"first\"],\n",
    "        'perceptron__penalty': [None],\n",
    "    }\n",
    "]"
   ]
  },
  {
   "cell_type": "code",
   "execution_count": 17,
   "metadata": {},
   "outputs": [
    {
     "data": {
      "text/plain": [
       "{'perceptron__alpha': 1e-05,\n",
       " 'perceptron__fit_intercept': True,\n",
       " 'perceptron__penalty': 'l1',\n",
       " 'preprocessor__boolean': StandardScaler(),\n",
       " 'preprocessor__categorical__drop': None,\n",
       " 'preprocessor__numeric': StandardScaler()}"
      ]
     },
     "execution_count": 17,
     "metadata": {},
     "output_type": "execute_result"
    }
   ],
   "source": [
    "gs = grid_search(perceptron_model, perceptron_grid)\n",
    "best_perceptron_model = gs.best_estimator_\n",
    "gs.best_params_"
   ]
  },
  {
   "cell_type": "code",
   "execution_count": 18,
   "metadata": {},
   "outputs": [
    {
     "name": "stdout",
     "output_type": "stream",
     "text": [
      "0.7391613361762616\n"
     ]
    },
    {
     "data": {
      "text/plain": [
       "0.6903409090909091"
      ]
     },
     "execution_count": 18,
     "metadata": {},
     "output_type": "execute_result"
    }
   ],
   "source": [
    "print(gs.best_score_)\n",
    "best_perceptron_model.fit(X_train,y_train)\n",
    "best_perceptron_model.score(X_test,y_test)"
   ]
  },
  {
   "cell_type": "code",
   "execution_count": 19,
   "metadata": {},
   "outputs": [
    {
     "data": {
      "text/html": [
       "<div>\n",
       "<style scoped>\n",
       "    .dataframe tbody tr th:only-of-type {\n",
       "        vertical-align: middle;\n",
       "    }\n",
       "\n",
       "    .dataframe tbody tr th {\n",
       "        vertical-align: top;\n",
       "    }\n",
       "\n",
       "    .dataframe thead th {\n",
       "        text-align: right;\n",
       "    }\n",
       "</style>\n",
       "<table border=\"1\" class=\"dataframe\">\n",
       "  <thead>\n",
       "    <tr style=\"text-align: right;\">\n",
       "      <th></th>\n",
       "      <th>Insufficient_Weight</th>\n",
       "      <th>Normal_Weight</th>\n",
       "      <th>Obesity_Type_I</th>\n",
       "      <th>Obesity_Type_II</th>\n",
       "      <th>Obesity_Type_III</th>\n",
       "      <th>Overweight_Level_I</th>\n",
       "      <th>Overweight_Level_II</th>\n",
       "    </tr>\n",
       "  </thead>\n",
       "  <tbody>\n",
       "    <tr>\n",
       "      <th>Insufficient_Weight</th>\n",
       "      <td>85</td>\n",
       "      <td>5</td>\n",
       "      <td>0</td>\n",
       "      <td>0</td>\n",
       "      <td>0</td>\n",
       "      <td>0</td>\n",
       "      <td>0</td>\n",
       "    </tr>\n",
       "    <tr>\n",
       "      <th>Normal_Weight</th>\n",
       "      <td>9</td>\n",
       "      <td>80</td>\n",
       "      <td>9</td>\n",
       "      <td>0</td>\n",
       "      <td>0</td>\n",
       "      <td>6</td>\n",
       "      <td>1</td>\n",
       "    </tr>\n",
       "    <tr>\n",
       "      <th>Obesity_Type_I</th>\n",
       "      <td>0</td>\n",
       "      <td>0</td>\n",
       "      <td>52</td>\n",
       "      <td>8</td>\n",
       "      <td>12</td>\n",
       "      <td>23</td>\n",
       "      <td>19</td>\n",
       "    </tr>\n",
       "    <tr>\n",
       "      <th>Obesity_Type_II</th>\n",
       "      <td>0</td>\n",
       "      <td>0</td>\n",
       "      <td>6</td>\n",
       "      <td>88</td>\n",
       "      <td>2</td>\n",
       "      <td>0</td>\n",
       "      <td>0</td>\n",
       "    </tr>\n",
       "    <tr>\n",
       "      <th>Obesity_Type_III</th>\n",
       "      <td>0</td>\n",
       "      <td>0</td>\n",
       "      <td>0</td>\n",
       "      <td>1</td>\n",
       "      <td>115</td>\n",
       "      <td>0</td>\n",
       "      <td>0</td>\n",
       "    </tr>\n",
       "    <tr>\n",
       "      <th>Overweight_Level_I</th>\n",
       "      <td>11</td>\n",
       "      <td>12</td>\n",
       "      <td>11</td>\n",
       "      <td>0</td>\n",
       "      <td>1</td>\n",
       "      <td>46</td>\n",
       "      <td>13</td>\n",
       "    </tr>\n",
       "    <tr>\n",
       "      <th>Overweight_Level_II</th>\n",
       "      <td>4</td>\n",
       "      <td>6</td>\n",
       "      <td>15</td>\n",
       "      <td>0</td>\n",
       "      <td>3</td>\n",
       "      <td>41</td>\n",
       "      <td>20</td>\n",
       "    </tr>\n",
       "  </tbody>\n",
       "</table>\n",
       "</div>"
      ],
      "text/plain": [
       "                     Insufficient_Weight  Normal_Weight  Obesity_Type_I  \\\n",
       "Insufficient_Weight                   85              5               0   \n",
       "Normal_Weight                          9             80               9   \n",
       "Obesity_Type_I                         0              0              52   \n",
       "Obesity_Type_II                        0              0               6   \n",
       "Obesity_Type_III                       0              0               0   \n",
       "Overweight_Level_I                    11             12              11   \n",
       "Overweight_Level_II                    4              6              15   \n",
       "\n",
       "                     Obesity_Type_II  Obesity_Type_III  Overweight_Level_I  \\\n",
       "Insufficient_Weight                0                 0                   0   \n",
       "Normal_Weight                      0                 0                   6   \n",
       "Obesity_Type_I                     8                12                  23   \n",
       "Obesity_Type_II                   88                 2                   0   \n",
       "Obesity_Type_III                   1               115                   0   \n",
       "Overweight_Level_I                 0                 1                  46   \n",
       "Overweight_Level_II                0                 3                  41   \n",
       "\n",
       "                     Overweight_Level_II  \n",
       "Insufficient_Weight                    0  \n",
       "Normal_Weight                          1  \n",
       "Obesity_Type_I                        19  \n",
       "Obesity_Type_II                        0  \n",
       "Obesity_Type_III                       0  \n",
       "Overweight_Level_I                    13  \n",
       "Overweight_Level_II                   20  "
      ]
     },
     "execution_count": 19,
     "metadata": {},
     "output_type": "execute_result"
    }
   ],
   "source": [
    "get_confusion_matrix(best_perceptron_model)"
   ]
  },
  {
   "cell_type": "code",
   "execution_count": 24,
   "metadata": {},
   "outputs": [],
   "source": [
    "stats, avarage_stats = get_precision_recall_f1(best_perceptron_model)"
   ]
  },
  {
   "cell_type": "code",
   "execution_count": 21,
   "metadata": {},
   "outputs": [
    {
     "data": {
      "text/html": [
       "<div>\n",
       "<style scoped>\n",
       "    .dataframe tbody tr th:only-of-type {\n",
       "        vertical-align: middle;\n",
       "    }\n",
       "\n",
       "    .dataframe tbody tr th {\n",
       "        vertical-align: top;\n",
       "    }\n",
       "\n",
       "    .dataframe thead th {\n",
       "        text-align: right;\n",
       "    }\n",
       "</style>\n",
       "<table border=\"1\" class=\"dataframe\">\n",
       "  <thead>\n",
       "    <tr style=\"text-align: right;\">\n",
       "      <th></th>\n",
       "      <th>Insufficient_Weight</th>\n",
       "      <th>Normal_Weight</th>\n",
       "      <th>Obesity_Type_I</th>\n",
       "      <th>Obesity_Type_II</th>\n",
       "      <th>Obesity_Type_III</th>\n",
       "      <th>Overweight_Level_I</th>\n",
       "      <th>Overweight_Level_II</th>\n",
       "    </tr>\n",
       "  </thead>\n",
       "  <tbody>\n",
       "    <tr>\n",
       "      <th>Precision</th>\n",
       "      <td>0.779817</td>\n",
       "      <td>0.776699</td>\n",
       "      <td>0.559140</td>\n",
       "      <td>0.907216</td>\n",
       "      <td>0.864662</td>\n",
       "      <td>0.396552</td>\n",
       "      <td>0.377358</td>\n",
       "    </tr>\n",
       "    <tr>\n",
       "      <th>Recall</th>\n",
       "      <td>0.944444</td>\n",
       "      <td>0.761905</td>\n",
       "      <td>0.456140</td>\n",
       "      <td>0.916667</td>\n",
       "      <td>0.991379</td>\n",
       "      <td>0.489362</td>\n",
       "      <td>0.224719</td>\n",
       "    </tr>\n",
       "    <tr>\n",
       "      <th>F1</th>\n",
       "      <td>0.854271</td>\n",
       "      <td>0.769231</td>\n",
       "      <td>0.502415</td>\n",
       "      <td>0.911917</td>\n",
       "      <td>0.923695</td>\n",
       "      <td>0.438095</td>\n",
       "      <td>0.281690</td>\n",
       "    </tr>\n",
       "  </tbody>\n",
       "</table>\n",
       "</div>"
      ],
      "text/plain": [
       "           Insufficient_Weight  Normal_Weight  Obesity_Type_I  \\\n",
       "Precision             0.779817       0.776699        0.559140   \n",
       "Recall                0.944444       0.761905        0.456140   \n",
       "F1                    0.854271       0.769231        0.502415   \n",
       "\n",
       "           Obesity_Type_II  Obesity_Type_III  Overweight_Level_I  \\\n",
       "Precision         0.907216          0.864662            0.396552   \n",
       "Recall            0.916667          0.991379            0.489362   \n",
       "F1                0.911917          0.923695            0.438095   \n",
       "\n",
       "           Overweight_Level_II  \n",
       "Precision             0.377358  \n",
       "Recall                0.224719  \n",
       "F1                    0.281690  "
      ]
     },
     "execution_count": 21,
     "metadata": {},
     "output_type": "execute_result"
    }
   ],
   "source": [
    "stats"
   ]
  },
  {
   "cell_type": "code",
   "execution_count": 22,
   "metadata": {},
   "outputs": [
    {
     "data": {
      "text/plain": [
       "Precision    0.665921\n",
       "Recall       0.683517\n",
       "F1           0.668759\n",
       "dtype: float64"
      ]
     },
     "execution_count": 22,
     "metadata": {},
     "output_type": "execute_result"
    }
   ],
   "source": [
    "avarage_stats"
   ]
  },
  {
   "cell_type": "markdown",
   "metadata": {},
   "source": [
    "### LogisticRegression"
   ]
  },
  {
   "cell_type": "code",
   "execution_count": 23,
   "metadata": {},
   "outputs": [],
   "source": [
    "logistic_regression_model = Pipeline([\n",
    "    (\"preprocessor\", preprocessor),\n",
    "    (\"lregr\", LogisticRegression(random_state=42, solver=\"saga\"))\n",
    "])\n",
    "\n",
    "logistic_regression_grid = [\n",
    "    {\n",
    "        \"preprocessor__numeric\" : [\"passthrough\", StandardScaler(), MinMaxScaler()],\n",
    "        \"preprocessor__boolean\" : [\"passthrough\", StandardScaler()],\n",
    "        \"preprocessor__categorical__drop\" : [None, \"first\"],\n",
    "        'lregr__penalty': ['l1', 'l2'],\n",
    "        'lregr__C': np.logspace(-5, 3, 9),\n",
    "        'lregr__fit_intercept': [False, True],\n",
    "    },\n",
    "    {\n",
    "        \"preprocessor__numeric\" : [\"passthrough\", StandardScaler(), MinMaxScaler()],\n",
    "        \"preprocessor__boolean\" : [\"passthrough\", StandardScaler()],\n",
    "        \"preprocessor__categorical__drop\" : [None, \"first\"],\n",
    "        'lregr__penalty': ['elasticnet'],\n",
    "        'lregr__C': np.logspace(-5, 3, 9),\n",
    "        'lregr__l1_ratio': [0.1, 0.2, 0.3, 0.4, 0.5, 0.6, 0.7, 0.8, 0.9],\n",
    "        'lregr__fit_intercept': [False, True],\n",
    "    },\n",
    "    {\n",
    "        \"preprocessor__numeric\" : [\"passthrough\", StandardScaler(), MinMaxScaler()],\n",
    "        \"preprocessor__boolean\" : [\"passthrough\", StandardScaler()],\n",
    "        \"preprocessor__categorical__drop\" : [None, \"first\"],\n",
    "        'lregr__penalty': [None],\n",
    "    }\n",
    "]"
   ]
  },
  {
   "cell_type": "code",
   "execution_count": 25,
   "metadata": {},
   "outputs": [
    {
     "name": "stderr",
     "output_type": "stream",
     "text": [
      "c:\\Users\\fvero\\anaconda3\\lib\\site-packages\\sklearn\\linear_model\\_sag.py:350: ConvergenceWarning: The max_iter was reached which means the coef_ did not converge\n",
      "  warnings.warn(\n"
     ]
    },
    {
     "data": {
      "text/plain": [
       "{'lregr__C': 1.0,\n",
       " 'lregr__fit_intercept': False,\n",
       " 'lregr__penalty': 'l1',\n",
       " 'preprocessor__boolean': 'passthrough',\n",
       " 'preprocessor__categorical__drop': None,\n",
       " 'preprocessor__numeric': StandardScaler()}"
      ]
     },
     "execution_count": 25,
     "metadata": {},
     "output_type": "execute_result"
    }
   ],
   "source": [
    "gs_lg = grid_search(logistic_regression_model, logistic_regression_grid)\n",
    "best_lregr_model = gs_lg.best_estimator_\n",
    "gs_lg.best_params_"
   ]
  },
  {
   "cell_type": "code",
   "execution_count": 26,
   "metadata": {},
   "outputs": [
    {
     "name": "stdout",
     "output_type": "stream",
     "text": [
      "0.9289267945984364\n"
     ]
    },
    {
     "name": "stderr",
     "output_type": "stream",
     "text": [
      "c:\\Users\\fvero\\anaconda3\\lib\\site-packages\\sklearn\\linear_model\\_sag.py:350: ConvergenceWarning: The max_iter was reached which means the coef_ did not converge\n",
      "  warnings.warn(\n"
     ]
    },
    {
     "data": {
      "text/plain": [
       "0.9332386363636364"
      ]
     },
     "execution_count": 26,
     "metadata": {},
     "output_type": "execute_result"
    }
   ],
   "source": [
    "print(gs_lg.best_score_)\n",
    "best_lregr_model.fit(X_train,y_train)\n",
    "best_lregr_model.score(X_test,y_test)"
   ]
  },
  {
   "cell_type": "code",
   "execution_count": 27,
   "metadata": {},
   "outputs": [
    {
     "data": {
      "text/html": [
       "<div>\n",
       "<style scoped>\n",
       "    .dataframe tbody tr th:only-of-type {\n",
       "        vertical-align: middle;\n",
       "    }\n",
       "\n",
       "    .dataframe tbody tr th {\n",
       "        vertical-align: top;\n",
       "    }\n",
       "\n",
       "    .dataframe thead th {\n",
       "        text-align: right;\n",
       "    }\n",
       "</style>\n",
       "<table border=\"1\" class=\"dataframe\">\n",
       "  <thead>\n",
       "    <tr style=\"text-align: right;\">\n",
       "      <th></th>\n",
       "      <th>Insufficient_Weight</th>\n",
       "      <th>Normal_Weight</th>\n",
       "      <th>Obesity_Type_I</th>\n",
       "      <th>Obesity_Type_II</th>\n",
       "      <th>Obesity_Type_III</th>\n",
       "      <th>Overweight_Level_I</th>\n",
       "      <th>Overweight_Level_II</th>\n",
       "    </tr>\n",
       "  </thead>\n",
       "  <tbody>\n",
       "    <tr>\n",
       "      <th>Insufficient_Weight</th>\n",
       "      <td>86</td>\n",
       "      <td>4</td>\n",
       "      <td>0</td>\n",
       "      <td>0</td>\n",
       "      <td>0</td>\n",
       "      <td>0</td>\n",
       "      <td>0</td>\n",
       "    </tr>\n",
       "    <tr>\n",
       "      <th>Normal_Weight</th>\n",
       "      <td>7</td>\n",
       "      <td>94</td>\n",
       "      <td>0</td>\n",
       "      <td>0</td>\n",
       "      <td>0</td>\n",
       "      <td>4</td>\n",
       "      <td>0</td>\n",
       "    </tr>\n",
       "    <tr>\n",
       "      <th>Obesity_Type_I</th>\n",
       "      <td>0</td>\n",
       "      <td>0</td>\n",
       "      <td>109</td>\n",
       "      <td>2</td>\n",
       "      <td>0</td>\n",
       "      <td>0</td>\n",
       "      <td>3</td>\n",
       "    </tr>\n",
       "    <tr>\n",
       "      <th>Obesity_Type_II</th>\n",
       "      <td>0</td>\n",
       "      <td>0</td>\n",
       "      <td>1</td>\n",
       "      <td>95</td>\n",
       "      <td>0</td>\n",
       "      <td>0</td>\n",
       "      <td>0</td>\n",
       "    </tr>\n",
       "    <tr>\n",
       "      <th>Obesity_Type_III</th>\n",
       "      <td>0</td>\n",
       "      <td>0</td>\n",
       "      <td>0</td>\n",
       "      <td>1</td>\n",
       "      <td>115</td>\n",
       "      <td>0</td>\n",
       "      <td>0</td>\n",
       "    </tr>\n",
       "    <tr>\n",
       "      <th>Overweight_Level_I</th>\n",
       "      <td>0</td>\n",
       "      <td>13</td>\n",
       "      <td>0</td>\n",
       "      <td>0</td>\n",
       "      <td>0</td>\n",
       "      <td>76</td>\n",
       "      <td>5</td>\n",
       "    </tr>\n",
       "    <tr>\n",
       "      <th>Overweight_Level_II</th>\n",
       "      <td>0</td>\n",
       "      <td>0</td>\n",
       "      <td>2</td>\n",
       "      <td>0</td>\n",
       "      <td>0</td>\n",
       "      <td>5</td>\n",
       "      <td>82</td>\n",
       "    </tr>\n",
       "  </tbody>\n",
       "</table>\n",
       "</div>"
      ],
      "text/plain": [
       "                     Insufficient_Weight  Normal_Weight  Obesity_Type_I  \\\n",
       "Insufficient_Weight                   86              4               0   \n",
       "Normal_Weight                          7             94               0   \n",
       "Obesity_Type_I                         0              0             109   \n",
       "Obesity_Type_II                        0              0               1   \n",
       "Obesity_Type_III                       0              0               0   \n",
       "Overweight_Level_I                     0             13               0   \n",
       "Overweight_Level_II                    0              0               2   \n",
       "\n",
       "                     Obesity_Type_II  Obesity_Type_III  Overweight_Level_I  \\\n",
       "Insufficient_Weight                0                 0                   0   \n",
       "Normal_Weight                      0                 0                   4   \n",
       "Obesity_Type_I                     2                 0                   0   \n",
       "Obesity_Type_II                   95                 0                   0   \n",
       "Obesity_Type_III                   1               115                   0   \n",
       "Overweight_Level_I                 0                 0                  76   \n",
       "Overweight_Level_II                0                 0                   5   \n",
       "\n",
       "                     Overweight_Level_II  \n",
       "Insufficient_Weight                    0  \n",
       "Normal_Weight                          0  \n",
       "Obesity_Type_I                         3  \n",
       "Obesity_Type_II                        0  \n",
       "Obesity_Type_III                       0  \n",
       "Overweight_Level_I                     5  \n",
       "Overweight_Level_II                   82  "
      ]
     },
     "execution_count": 27,
     "metadata": {},
     "output_type": "execute_result"
    }
   ],
   "source": [
    "get_confusion_matrix(best_lregr_model)"
   ]
  },
  {
   "cell_type": "code",
   "execution_count": 28,
   "metadata": {},
   "outputs": [],
   "source": [
    "stats, avarage_stats = get_precision_recall_f1(best_lregr_model)"
   ]
  },
  {
   "cell_type": "code",
   "execution_count": 29,
   "metadata": {},
   "outputs": [
    {
     "data": {
      "text/html": [
       "<div>\n",
       "<style scoped>\n",
       "    .dataframe tbody tr th:only-of-type {\n",
       "        vertical-align: middle;\n",
       "    }\n",
       "\n",
       "    .dataframe tbody tr th {\n",
       "        vertical-align: top;\n",
       "    }\n",
       "\n",
       "    .dataframe thead th {\n",
       "        text-align: right;\n",
       "    }\n",
       "</style>\n",
       "<table border=\"1\" class=\"dataframe\">\n",
       "  <thead>\n",
       "    <tr style=\"text-align: right;\">\n",
       "      <th></th>\n",
       "      <th>Insufficient_Weight</th>\n",
       "      <th>Normal_Weight</th>\n",
       "      <th>Obesity_Type_I</th>\n",
       "      <th>Obesity_Type_II</th>\n",
       "      <th>Obesity_Type_III</th>\n",
       "      <th>Overweight_Level_I</th>\n",
       "      <th>Overweight_Level_II</th>\n",
       "    </tr>\n",
       "  </thead>\n",
       "  <tbody>\n",
       "    <tr>\n",
       "      <th>Precision</th>\n",
       "      <td>0.924731</td>\n",
       "      <td>0.846847</td>\n",
       "      <td>0.973214</td>\n",
       "      <td>0.969388</td>\n",
       "      <td>1.000000</td>\n",
       "      <td>0.894118</td>\n",
       "      <td>0.911111</td>\n",
       "    </tr>\n",
       "    <tr>\n",
       "      <th>Recall</th>\n",
       "      <td>0.955556</td>\n",
       "      <td>0.895238</td>\n",
       "      <td>0.956140</td>\n",
       "      <td>0.989583</td>\n",
       "      <td>0.991379</td>\n",
       "      <td>0.808511</td>\n",
       "      <td>0.921348</td>\n",
       "    </tr>\n",
       "    <tr>\n",
       "      <th>F1</th>\n",
       "      <td>0.939891</td>\n",
       "      <td>0.870370</td>\n",
       "      <td>0.964602</td>\n",
       "      <td>0.979381</td>\n",
       "      <td>0.995671</td>\n",
       "      <td>0.849162</td>\n",
       "      <td>0.916201</td>\n",
       "    </tr>\n",
       "  </tbody>\n",
       "</table>\n",
       "</div>"
      ],
      "text/plain": [
       "           Insufficient_Weight  Normal_Weight  Obesity_Type_I  \\\n",
       "Precision             0.924731       0.846847        0.973214   \n",
       "Recall                0.955556       0.895238        0.956140   \n",
       "F1                    0.939891       0.870370        0.964602   \n",
       "\n",
       "           Obesity_Type_II  Obesity_Type_III  Overweight_Level_I  \\\n",
       "Precision         0.969388          1.000000            0.894118   \n",
       "Recall            0.989583          0.991379            0.808511   \n",
       "F1                0.979381          0.995671            0.849162   \n",
       "\n",
       "           Overweight_Level_II  \n",
       "Precision             0.911111  \n",
       "Recall                0.921348  \n",
       "F1                    0.916201  "
      ]
     },
     "execution_count": 29,
     "metadata": {},
     "output_type": "execute_result"
    }
   ],
   "source": [
    "stats"
   ]
  },
  {
   "cell_type": "code",
   "execution_count": 30,
   "metadata": {},
   "outputs": [
    {
     "data": {
      "text/plain": [
       "Precision    0.931344\n",
       "Recall       0.931108\n",
       "F1           0.930754\n",
       "dtype: float64"
      ]
     },
     "execution_count": 30,
     "metadata": {},
     "output_type": "execute_result"
    }
   ],
   "source": [
    "avarage_stats"
   ]
  },
  {
   "cell_type": "markdown",
   "metadata": {},
   "source": [
    "### DecisionTreeClassifier"
   ]
  },
  {
   "cell_type": "code",
   "execution_count": 38,
   "metadata": {},
   "outputs": [],
   "source": [
    "dtc_model = Pipeline([\n",
    "    (\"preprocessor\", preprocessor),\n",
    "    (\"dtc\", DecisionTreeClassifier(random_state=42))\n",
    "])\n",
    "\n",
    "dtc_grid = {\n",
    "    \"preprocessor__numeric\" : [\"passthrough\", StandardScaler(), MinMaxScaler()],\n",
    "    \"preprocessor__boolean\" : [\"passthrough\", StandardScaler()],\n",
    "    \"preprocessor__categorical__drop\" : [None, \"first\"],\n",
    "    \"dtc__max_depth\" : [None, 10, 20, 30],\n",
    "    \"dtc__criterion\": ['gini', 'entropy', 'log_loss'],\n",
    "    \"dtc__min_samples_split\" : [2, 5, 10],\n",
    "    \"dtc__min_samples_leaf\" : [1, 2, 4],\n",
    "    \"dtc__max_features\" : [None, 'sqrt', 'log2'],\n",
    "}\n"
   ]
  },
  {
   "cell_type": "code",
   "execution_count": 39,
   "metadata": {},
   "outputs": [
    {
     "data": {
      "text/plain": [
       "{'dtc__criterion': 'entropy',\n",
       " 'dtc__max_depth': 10,\n",
       " 'dtc__max_features': None,\n",
       " 'dtc__min_samples_leaf': 1,\n",
       " 'dtc__min_samples_split': 5,\n",
       " 'preprocessor__boolean': 'passthrough',\n",
       " 'preprocessor__categorical__drop': 'first',\n",
       " 'preprocessor__numeric': StandardScaler()}"
      ]
     },
     "execution_count": 39,
     "metadata": {},
     "output_type": "execute_result"
    }
   ],
   "source": [
    "gs_dtc = grid_search(dtc_model, dtc_grid)\n",
    "best_dtc_model = gs_dtc.best_estimator_\n",
    "gs_dtc.best_params_"
   ]
  },
  {
   "cell_type": "code",
   "execution_count": 40,
   "metadata": {},
   "outputs": [
    {
     "name": "stdout",
     "output_type": "stream",
     "text": [
      "0.927505330490405\n"
     ]
    },
    {
     "name": "stderr",
     "output_type": "stream",
     "text": [
      "c:\\Users\\fvero\\anaconda3\\lib\\site-packages\\sklearn\\preprocessing\\_encoders.py:227: UserWarning: Found unknown categories in columns [1, 3, 5, 6] during transform. These unknown categories will be encoded as all zeros\n",
      "  warnings.warn(\n"
     ]
    },
    {
     "data": {
      "text/plain": [
       "0.9460227272727273"
      ]
     },
     "execution_count": 40,
     "metadata": {},
     "output_type": "execute_result"
    }
   ],
   "source": [
    "print(gs_dtc.best_score_)\n",
    "best_dtc_model.fit(X_train,y_train)\n",
    "best_dtc_model.score(X_test,y_test)"
   ]
  },
  {
   "cell_type": "code",
   "execution_count": 34,
   "metadata": {},
   "outputs": [
    {
     "name": "stderr",
     "output_type": "stream",
     "text": [
      "c:\\Users\\fvero\\anaconda3\\lib\\site-packages\\sklearn\\preprocessing\\_encoders.py:227: UserWarning: Found unknown categories in columns [1, 3, 5, 6] during transform. These unknown categories will be encoded as all zeros\n",
      "  warnings.warn(\n"
     ]
    },
    {
     "data": {
      "text/html": [
       "<div>\n",
       "<style scoped>\n",
       "    .dataframe tbody tr th:only-of-type {\n",
       "        vertical-align: middle;\n",
       "    }\n",
       "\n",
       "    .dataframe tbody tr th {\n",
       "        vertical-align: top;\n",
       "    }\n",
       "\n",
       "    .dataframe thead th {\n",
       "        text-align: right;\n",
       "    }\n",
       "</style>\n",
       "<table border=\"1\" class=\"dataframe\">\n",
       "  <thead>\n",
       "    <tr style=\"text-align: right;\">\n",
       "      <th></th>\n",
       "      <th>Insufficient_Weight</th>\n",
       "      <th>Normal_Weight</th>\n",
       "      <th>Obesity_Type_I</th>\n",
       "      <th>Obesity_Type_II</th>\n",
       "      <th>Obesity_Type_III</th>\n",
       "      <th>Overweight_Level_I</th>\n",
       "      <th>Overweight_Level_II</th>\n",
       "    </tr>\n",
       "  </thead>\n",
       "  <tbody>\n",
       "    <tr>\n",
       "      <th>Insufficient_Weight</th>\n",
       "      <td>90</td>\n",
       "      <td>0</td>\n",
       "      <td>0</td>\n",
       "      <td>0</td>\n",
       "      <td>0</td>\n",
       "      <td>0</td>\n",
       "      <td>0</td>\n",
       "    </tr>\n",
       "    <tr>\n",
       "      <th>Normal_Weight</th>\n",
       "      <td>8</td>\n",
       "      <td>93</td>\n",
       "      <td>0</td>\n",
       "      <td>0</td>\n",
       "      <td>0</td>\n",
       "      <td>4</td>\n",
       "      <td>0</td>\n",
       "    </tr>\n",
       "    <tr>\n",
       "      <th>Obesity_Type_I</th>\n",
       "      <td>0</td>\n",
       "      <td>0</td>\n",
       "      <td>108</td>\n",
       "      <td>3</td>\n",
       "      <td>0</td>\n",
       "      <td>3</td>\n",
       "      <td>0</td>\n",
       "    </tr>\n",
       "    <tr>\n",
       "      <th>Obesity_Type_II</th>\n",
       "      <td>0</td>\n",
       "      <td>0</td>\n",
       "      <td>5</td>\n",
       "      <td>91</td>\n",
       "      <td>0</td>\n",
       "      <td>0</td>\n",
       "      <td>0</td>\n",
       "    </tr>\n",
       "    <tr>\n",
       "      <th>Obesity_Type_III</th>\n",
       "      <td>0</td>\n",
       "      <td>0</td>\n",
       "      <td>1</td>\n",
       "      <td>0</td>\n",
       "      <td>115</td>\n",
       "      <td>0</td>\n",
       "      <td>0</td>\n",
       "    </tr>\n",
       "    <tr>\n",
       "      <th>Overweight_Level_I</th>\n",
       "      <td>0</td>\n",
       "      <td>5</td>\n",
       "      <td>0</td>\n",
       "      <td>0</td>\n",
       "      <td>0</td>\n",
       "      <td>85</td>\n",
       "      <td>4</td>\n",
       "    </tr>\n",
       "    <tr>\n",
       "      <th>Overweight_Level_II</th>\n",
       "      <td>0</td>\n",
       "      <td>0</td>\n",
       "      <td>2</td>\n",
       "      <td>0</td>\n",
       "      <td>0</td>\n",
       "      <td>3</td>\n",
       "      <td>84</td>\n",
       "    </tr>\n",
       "  </tbody>\n",
       "</table>\n",
       "</div>"
      ],
      "text/plain": [
       "                     Insufficient_Weight  Normal_Weight  Obesity_Type_I  \\\n",
       "Insufficient_Weight                   90              0               0   \n",
       "Normal_Weight                          8             93               0   \n",
       "Obesity_Type_I                         0              0             108   \n",
       "Obesity_Type_II                        0              0               5   \n",
       "Obesity_Type_III                       0              0               1   \n",
       "Overweight_Level_I                     0              5               0   \n",
       "Overweight_Level_II                    0              0               2   \n",
       "\n",
       "                     Obesity_Type_II  Obesity_Type_III  Overweight_Level_I  \\\n",
       "Insufficient_Weight                0                 0                   0   \n",
       "Normal_Weight                      0                 0                   4   \n",
       "Obesity_Type_I                     3                 0                   3   \n",
       "Obesity_Type_II                   91                 0                   0   \n",
       "Obesity_Type_III                   0               115                   0   \n",
       "Overweight_Level_I                 0                 0                  85   \n",
       "Overweight_Level_II                0                 0                   3   \n",
       "\n",
       "                     Overweight_Level_II  \n",
       "Insufficient_Weight                    0  \n",
       "Normal_Weight                          0  \n",
       "Obesity_Type_I                         0  \n",
       "Obesity_Type_II                        0  \n",
       "Obesity_Type_III                       0  \n",
       "Overweight_Level_I                     4  \n",
       "Overweight_Level_II                   84  "
      ]
     },
     "execution_count": 34,
     "metadata": {},
     "output_type": "execute_result"
    }
   ],
   "source": [
    "get_confusion_matrix(best_dtc_model)"
   ]
  },
  {
   "cell_type": "code",
   "execution_count": 41,
   "metadata": {},
   "outputs": [
    {
     "name": "stderr",
     "output_type": "stream",
     "text": [
      "c:\\Users\\fvero\\anaconda3\\lib\\site-packages\\sklearn\\preprocessing\\_encoders.py:227: UserWarning: Found unknown categories in columns [1, 3, 5, 6] during transform. These unknown categories will be encoded as all zeros\n",
      "  warnings.warn(\n"
     ]
    }
   ],
   "source": [
    "dtc_stats, dtc_avarage_stats = get_precision_recall_f1(best_dtc_model)"
   ]
  },
  {
   "cell_type": "code",
   "execution_count": 42,
   "metadata": {},
   "outputs": [
    {
     "data": {
      "text/html": [
       "<div>\n",
       "<style scoped>\n",
       "    .dataframe tbody tr th:only-of-type {\n",
       "        vertical-align: middle;\n",
       "    }\n",
       "\n",
       "    .dataframe tbody tr th {\n",
       "        vertical-align: top;\n",
       "    }\n",
       "\n",
       "    .dataframe thead th {\n",
       "        text-align: right;\n",
       "    }\n",
       "</style>\n",
       "<table border=\"1\" class=\"dataframe\">\n",
       "  <thead>\n",
       "    <tr style=\"text-align: right;\">\n",
       "      <th></th>\n",
       "      <th>Insufficient_Weight</th>\n",
       "      <th>Normal_Weight</th>\n",
       "      <th>Obesity_Type_I</th>\n",
       "      <th>Obesity_Type_II</th>\n",
       "      <th>Obesity_Type_III</th>\n",
       "      <th>Overweight_Level_I</th>\n",
       "      <th>Overweight_Level_II</th>\n",
       "    </tr>\n",
       "  </thead>\n",
       "  <tbody>\n",
       "    <tr>\n",
       "      <th>Precision</th>\n",
       "      <td>0.918367</td>\n",
       "      <td>0.948980</td>\n",
       "      <td>0.931034</td>\n",
       "      <td>0.968085</td>\n",
       "      <td>1.000000</td>\n",
       "      <td>0.894737</td>\n",
       "      <td>0.954545</td>\n",
       "    </tr>\n",
       "    <tr>\n",
       "      <th>Recall</th>\n",
       "      <td>1.000000</td>\n",
       "      <td>0.885714</td>\n",
       "      <td>0.947368</td>\n",
       "      <td>0.947917</td>\n",
       "      <td>0.991379</td>\n",
       "      <td>0.904255</td>\n",
       "      <td>0.943820</td>\n",
       "    </tr>\n",
       "    <tr>\n",
       "      <th>F1</th>\n",
       "      <td>0.957447</td>\n",
       "      <td>0.916256</td>\n",
       "      <td>0.939130</td>\n",
       "      <td>0.957895</td>\n",
       "      <td>0.995671</td>\n",
       "      <td>0.899471</td>\n",
       "      <td>0.949153</td>\n",
       "    </tr>\n",
       "  </tbody>\n",
       "</table>\n",
       "</div>"
      ],
      "text/plain": [
       "           Insufficient_Weight  Normal_Weight  Obesity_Type_I  \\\n",
       "Precision             0.918367       0.948980        0.931034   \n",
       "Recall                1.000000       0.885714        0.947368   \n",
       "F1                    0.957447       0.916256        0.939130   \n",
       "\n",
       "           Obesity_Type_II  Obesity_Type_III  Overweight_Level_I  \\\n",
       "Precision         0.968085          1.000000            0.894737   \n",
       "Recall            0.947917          0.991379            0.904255   \n",
       "F1                0.957895          0.995671            0.899471   \n",
       "\n",
       "           Overweight_Level_II  \n",
       "Precision             0.954545  \n",
       "Recall                0.943820  \n",
       "F1                    0.949153  "
      ]
     },
     "execution_count": 42,
     "metadata": {},
     "output_type": "execute_result"
    }
   ],
   "source": [
    "dtc_stats"
   ]
  },
  {
   "cell_type": "code",
   "execution_count": 43,
   "metadata": {},
   "outputs": [
    {
     "data": {
      "text/plain": [
       "Precision    0.945107\n",
       "Recall       0.945779\n",
       "F1           0.945003\n",
       "dtype: float64"
      ]
     },
     "execution_count": 43,
     "metadata": {},
     "output_type": "execute_result"
    }
   ],
   "source": [
    "dtc_avarage_stats"
   ]
  }
 ],
 "metadata": {
  "kernelspec": {
   "display_name": "base",
   "language": "python",
   "name": "python3"
  },
  "language_info": {
   "codemirror_mode": {
    "name": "ipython",
    "version": 3
   },
   "file_extension": ".py",
   "mimetype": "text/x-python",
   "name": "python",
   "nbconvert_exporter": "python",
   "pygments_lexer": "ipython3",
   "version": "3.9.13"
  },
  "orig_nbformat": 4
 },
 "nbformat": 4,
 "nbformat_minor": 2
}
