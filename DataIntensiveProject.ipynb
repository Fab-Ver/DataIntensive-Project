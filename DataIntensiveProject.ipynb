{
 "cells": [
  {
   "cell_type": "markdown",
   "metadata": {},
   "source": [
    "# Stima dei livelli di obesità in base alle abitudini alimentari e alle condizioni fisiche\n",
    "Progetto di Programmazione di Applicazioni Data Intensive - 2022/2023\n",
    "\n",
    "**Realizzato da:** Fabio Veroli fabio.veroli@studio.unibo.it"
   ]
  },
  {
   "cell_type": "code",
   "execution_count": 1,
   "metadata": {},
   "outputs": [],
   "source": [
    "import numpy as np\n",
    "import pandas as pd\n",
    "import matplotlib.pyplot as plt\n",
    "\n",
    "%matplotlib inline"
   ]
  },
  {
   "cell_type": "markdown",
   "metadata": {},
   "source": [
    "## Caricamento dei dati\n",
    "L'obbiettivo del problema che andremo a studiare è stimare il livello di obesità di una persona in base alle sue abitudini alimentari e alle sue condizioni fisiche. \n",
    "\n",
    "Il dataset utilizzato, consultabile presso [UCI Machine Learning Repository](https://archive.ics.uci.edu/dataset/544/estimation+of+obesity+levels+based+on+eating+habits+and+physical+condition), riguarda i dati di circa 2000 individui provenienti da Messico, Peru e Colombia; il 23% dei dati è stato ottenuto da un sondaggio online, mentre il restante 77% è stato generato sinteticamente utilizzando lo strumento Weka e il filtro SMOTE. "
   ]
  },
  {
   "cell_type": "code",
   "execution_count": 2,
   "metadata": {},
   "outputs": [
    {
     "data": {
      "text/html": [
       "<div>\n",
       "<style scoped>\n",
       "    .dataframe tbody tr th:only-of-type {\n",
       "        vertical-align: middle;\n",
       "    }\n",
       "\n",
       "    .dataframe tbody tr th {\n",
       "        vertical-align: top;\n",
       "    }\n",
       "\n",
       "    .dataframe thead th {\n",
       "        text-align: right;\n",
       "    }\n",
       "</style>\n",
       "<table border=\"1\" class=\"dataframe\">\n",
       "  <thead>\n",
       "    <tr style=\"text-align: right;\">\n",
       "      <th></th>\n",
       "      <th>Gender</th>\n",
       "      <th>Age</th>\n",
       "      <th>Height</th>\n",
       "      <th>Weight</th>\n",
       "      <th>family_history_with_overweight</th>\n",
       "      <th>FAVC</th>\n",
       "      <th>FCVC</th>\n",
       "      <th>NCP</th>\n",
       "      <th>CAEC</th>\n",
       "      <th>SMOKE</th>\n",
       "      <th>CH2O</th>\n",
       "      <th>SCC</th>\n",
       "      <th>FAF</th>\n",
       "      <th>TUE</th>\n",
       "      <th>CALC</th>\n",
       "      <th>MTRANS</th>\n",
       "      <th>NObeyesdad</th>\n",
       "    </tr>\n",
       "  </thead>\n",
       "  <tbody>\n",
       "    <tr>\n",
       "      <th>0</th>\n",
       "      <td>Female</td>\n",
       "      <td>21.0</td>\n",
       "      <td>1.62</td>\n",
       "      <td>64.0</td>\n",
       "      <td>yes</td>\n",
       "      <td>no</td>\n",
       "      <td>2.0</td>\n",
       "      <td>3.0</td>\n",
       "      <td>Sometimes</td>\n",
       "      <td>no</td>\n",
       "      <td>2.0</td>\n",
       "      <td>no</td>\n",
       "      <td>0.0</td>\n",
       "      <td>1.0</td>\n",
       "      <td>no</td>\n",
       "      <td>Public_Transportation</td>\n",
       "      <td>Normal_Weight</td>\n",
       "    </tr>\n",
       "    <tr>\n",
       "      <th>1</th>\n",
       "      <td>Female</td>\n",
       "      <td>21.0</td>\n",
       "      <td>1.52</td>\n",
       "      <td>56.0</td>\n",
       "      <td>yes</td>\n",
       "      <td>no</td>\n",
       "      <td>3.0</td>\n",
       "      <td>3.0</td>\n",
       "      <td>Sometimes</td>\n",
       "      <td>yes</td>\n",
       "      <td>3.0</td>\n",
       "      <td>yes</td>\n",
       "      <td>3.0</td>\n",
       "      <td>0.0</td>\n",
       "      <td>Sometimes</td>\n",
       "      <td>Public_Transportation</td>\n",
       "      <td>Normal_Weight</td>\n",
       "    </tr>\n",
       "    <tr>\n",
       "      <th>2</th>\n",
       "      <td>Male</td>\n",
       "      <td>23.0</td>\n",
       "      <td>1.80</td>\n",
       "      <td>77.0</td>\n",
       "      <td>yes</td>\n",
       "      <td>no</td>\n",
       "      <td>2.0</td>\n",
       "      <td>3.0</td>\n",
       "      <td>Sometimes</td>\n",
       "      <td>no</td>\n",
       "      <td>2.0</td>\n",
       "      <td>no</td>\n",
       "      <td>2.0</td>\n",
       "      <td>1.0</td>\n",
       "      <td>Frequently</td>\n",
       "      <td>Public_Transportation</td>\n",
       "      <td>Normal_Weight</td>\n",
       "    </tr>\n",
       "    <tr>\n",
       "      <th>3</th>\n",
       "      <td>Male</td>\n",
       "      <td>27.0</td>\n",
       "      <td>1.80</td>\n",
       "      <td>87.0</td>\n",
       "      <td>no</td>\n",
       "      <td>no</td>\n",
       "      <td>3.0</td>\n",
       "      <td>3.0</td>\n",
       "      <td>Sometimes</td>\n",
       "      <td>no</td>\n",
       "      <td>2.0</td>\n",
       "      <td>no</td>\n",
       "      <td>2.0</td>\n",
       "      <td>0.0</td>\n",
       "      <td>Frequently</td>\n",
       "      <td>Walking</td>\n",
       "      <td>Overweight_Level_I</td>\n",
       "    </tr>\n",
       "    <tr>\n",
       "      <th>4</th>\n",
       "      <td>Male</td>\n",
       "      <td>22.0</td>\n",
       "      <td>1.78</td>\n",
       "      <td>89.8</td>\n",
       "      <td>no</td>\n",
       "      <td>no</td>\n",
       "      <td>2.0</td>\n",
       "      <td>1.0</td>\n",
       "      <td>Sometimes</td>\n",
       "      <td>no</td>\n",
       "      <td>2.0</td>\n",
       "      <td>no</td>\n",
       "      <td>0.0</td>\n",
       "      <td>0.0</td>\n",
       "      <td>Sometimes</td>\n",
       "      <td>Public_Transportation</td>\n",
       "      <td>Overweight_Level_II</td>\n",
       "    </tr>\n",
       "  </tbody>\n",
       "</table>\n",
       "</div>"
      ],
      "text/plain": [
       "   Gender   Age  Height  Weight family_history_with_overweight FAVC  FCVC  \\\n",
       "0  Female  21.0    1.62    64.0                            yes   no   2.0   \n",
       "1  Female  21.0    1.52    56.0                            yes   no   3.0   \n",
       "2    Male  23.0    1.80    77.0                            yes   no   2.0   \n",
       "3    Male  27.0    1.80    87.0                             no   no   3.0   \n",
       "4    Male  22.0    1.78    89.8                             no   no   2.0   \n",
       "\n",
       "   NCP       CAEC SMOKE  CH2O  SCC  FAF  TUE        CALC  \\\n",
       "0  3.0  Sometimes    no   2.0   no  0.0  1.0          no   \n",
       "1  3.0  Sometimes   yes   3.0  yes  3.0  0.0   Sometimes   \n",
       "2  3.0  Sometimes    no   2.0   no  2.0  1.0  Frequently   \n",
       "3  3.0  Sometimes    no   2.0   no  2.0  0.0  Frequently   \n",
       "4  1.0  Sometimes    no   2.0   no  0.0  0.0   Sometimes   \n",
       "\n",
       "                  MTRANS           NObeyesdad  \n",
       "0  Public_Transportation        Normal_Weight  \n",
       "1  Public_Transportation        Normal_Weight  \n",
       "2  Public_Transportation        Normal_Weight  \n",
       "3                Walking   Overweight_Level_I  \n",
       "4  Public_Transportation  Overweight_Level_II  "
      ]
     },
     "execution_count": 2,
     "metadata": {},
     "output_type": "execute_result"
    }
   ],
   "source": [
    "df = pd.read_csv(\"https://raw.githubusercontent.com/Fab-Ver/DataIntensive-Project/main/data/ObesityDataSet.csv\", delimiter=',')\n",
    "df.head()"
   ]
  },
  {
   "cell_type": "markdown",
   "metadata": {},
   "source": [
    "### Significato delle colonne\n",
    "Le feature presenti nel dataset sono: \n",
    "- `Gender`: genere dell'individuo. Possibili valori: Female o Male\n",
    "- `Age`: età dell'individuo (valore numerico)\n",
    "- `Height`: altezza dell'individuo in metri (valore numerico)\n",
    "- `Weight`: peso dell'individuo in chilogrammi (valore numerico)\n",
    "- `family_history_with_overweight`: indica se nella famiglia dell'individuo sono presenti altri familiari che soffrono di obesità. Possibili valori: yes o no\n",
    "- `FAVC`: indica se l'individuo consuma frequentemente cibi ad alto contenuto calorico. Possibili valori: yes o no\n",
    "- `FCVC`: indica quanto spesso l'individuo mangia verdure durante i pasti. Possibili valori: Never (1), Sometimes (2), Always (3)\n",
    "- `NCP`: numero di pasti principali consumati dall'individuo in un giorno (valore numerico)\n",
    "- `CAEC`: indica quanto spesso l'individuo consuma cibi tra due pasti. Possibili valori: No, Sometimes, Frequently, Always\n",
    "- `SMOKE`: indica se l'individuo fuma. Possibili valori: yes o no\n",
    "- `CH20`: indica il consumo giornaliero di acqua. Possibili valori: less than a liter (1), between 1 and 2L (2), more than 2L (3)\n",
    "- `SCC`: indica se l'individuo monitora le calorie che assume giornalmente. Possibili valori: yes o no\n",
    "- `FAF`: indica il numero di giorni in una settimana in cui l'individuo effettua attività fisica. Possibili valori: never (0), 1-2 days (1), 2-4 days (2), 4-5 days (3)\n",
    "- `TUE`: indica il numero di ore giornaliere passate utilizzando dispositivi tecnologici come cellulare, videogiochi, televisione, computer. Possibili valori: 0-2 hours (0), 3-5 hours (1), more than 5 hours (2)\n",
    "- `CALC`: indica quanto spesso l'individuo consuma alcol. Possibili valori: No, Sometimes, Frequently, Always\n",
    "- `MTRANS`: tipo di mezzo di trasporto utilizzato dall'individuo. Possibili valori: Public_Transportation, Walking, Automobile, Motorbike, Bike\n",
    "\n",
    "La variabile che tenteremo di predirre è: \n",
    "- `NObeyesdad`: classificazione dei livelli di obesità basata sull'indice di massa corporea (BMI) secondo la WHO e la normativa messicana."
   ]
  },
  {
   "cell_type": "markdown",
   "metadata": {},
   "source": [
    "Modificihiamo i nomi delle colonne per renderli più esplicativi al fine dello studio del problema. "
   ]
  },
  {
   "cell_type": "code",
   "execution_count": 3,
   "metadata": {},
   "outputs": [],
   "source": [
    "col_names = {\n",
    "    \"Gender\" : \"gender\",\n",
    "    \"Age\" : \"age\",\n",
    "    \"Height\" : \"height\",\n",
    "    \"Weight\" : \"weight\",\n",
    "    \"family_history_with_overweight\" : \"overweight_in_family\",\n",
    "    \"FAVC\" : \"high_caloric_food_frequently\",\n",
    "    \"FCVC\" : \"freq_vegetables_cons\",\n",
    "    \"NCP\" : \"num_meals\",\n",
    "    \"CAEC\" : \"freq_cons_food_between_meals\",\n",
    "    \"SMOKE\" : \"smoke\",\n",
    "    \"CH2O\" : \"water_cons\",\n",
    "    \"SCC\" : \"cal_cons_monitoring\",\n",
    "    \"FAF\" : \"freq_physical_activity\",\n",
    "    \"TUE\" : \"time_using_technology\",\n",
    "    \"CALC\" : \"freq_alcohol_cons\",\n",
    "    \"MTRANS\" : \"transportation\",\n",
    "    \"NObeyesdad\": \"BMI_classification\",\n",
    "}\n",
    "df.rename(columns=col_names,inplace=True)"
   ]
  },
  {
   "cell_type": "code",
   "execution_count": 4,
   "metadata": {},
   "outputs": [
    {
     "name": "stdout",
     "output_type": "stream",
     "text": [
      "<class 'pandas.core.frame.DataFrame'>\n",
      "RangeIndex: 2111 entries, 0 to 2110\n",
      "Data columns (total 17 columns):\n",
      " #   Column                        Non-Null Count  Dtype  \n",
      "---  ------                        --------------  -----  \n",
      " 0   gender                        2111 non-null   object \n",
      " 1   age                           2111 non-null   float64\n",
      " 2   height                        2111 non-null   float64\n",
      " 3   weight                        2111 non-null   float64\n",
      " 4   overweight_in_family          2111 non-null   object \n",
      " 5   high_caloric_food_frequently  2111 non-null   object \n",
      " 6   freq_vegetables_cons          2111 non-null   float64\n",
      " 7   num_meals                     2111 non-null   float64\n",
      " 8   freq_cons_food_between_meals  2111 non-null   object \n",
      " 9   smoke                         2111 non-null   object \n",
      " 10  water_cons                    2111 non-null   float64\n",
      " 11  cal_cons_monitoring           2111 non-null   object \n",
      " 12  freq_physical_activity        2111 non-null   float64\n",
      " 13  time_using_technology         2111 non-null   float64\n",
      " 14  freq_alcohol_cons             2111 non-null   object \n",
      " 15  transportation                2111 non-null   object \n",
      " 16  BMI_classification            2111 non-null   object \n",
      "dtypes: float64(8), object(9)\n",
      "memory usage: 1.3 MB\n"
     ]
    }
   ],
   "source": [
    "df.info(memory_usage=\"deep\")"
   ]
  },
  {
   "cell_type": "markdown",
   "metadata": {},
   "source": [
    "Dall'analisi dell'utilizzo della memoria emerge che il dataframe occupa molto spazio in memoria a causa di alcune variabili rappresentate come oggetti. Passiamo quindi a classificare le variabili in categoriche, booleane e numerice, in modo da avere una rappresentazione in memoria più efficiente. "
   ]
  },
  {
   "cell_type": "code",
   "execution_count": 5,
   "metadata": {},
   "outputs": [],
   "source": [
    "cat_vars = [\"gender\",  \"freq_cons_food_between_meals\", \"time_using_technology\",\"freq_vegetables_cons\",\n",
    "            \"water_cons\", \"freq_physical_activity\", \"freq_alcohol_cons\",  \n",
    "            \"transportation\", \"BMI_classification\"]\n",
    "bool_vars = [\"overweight_in_family\", \"high_caloric_food_frequently\", \"smoke\", \"cal_cons_monitoring\"]\n",
    "float_vars = [\"height\", \"weight\",\"age\", \"num_meals\"]"
   ]
  },
  {
   "cell_type": "markdown",
   "metadata": {},
   "source": [
    "Convertiamo tutte gli attributi con valori possibili `yes` o `no` in attributi booleani."
   ]
  },
  {
   "cell_type": "code",
   "execution_count": 6,
   "metadata": {},
   "outputs": [],
   "source": [
    "mapping = {\"yes\" : True, \"no\" : False}\n",
    "for col_name in bool_vars: \n",
    "    df[col_name] = df[col_name].map(mapping)"
   ]
  },
  {
   "cell_type": "markdown",
   "metadata": {},
   "source": [
    "Per uniformità di rappresentazione dei dati convertiamo le variabili `freq_cons_food_between_meals` e `freq_alcohol_cons` da stringhe a valori numerici, in modo che siano rappresentati come le altre variabili categoriche."
   ]
  },
  {
   "cell_type": "code",
   "execution_count": 7,
   "metadata": {},
   "outputs": [],
   "source": [
    "mapping_cat_to_num = {\"no\" : 0, \"Sometimes\" : 1, \"Frequently\" : 2, \"Always\" : 3}\n",
    "df[\"freq_cons_food_between_meals\"] = df[\"freq_cons_food_between_meals\"].map(mapping_cat_to_num)\n",
    "df[\"freq_alcohol_cons\"] = df[\"freq_alcohol_cons\"].map(mapping_cat_to_num)\n",
    "\n",
    "for col_name in cat_vars:\n",
    "    df[col_name] = df[col_name].astype('category')"
   ]
  },
  {
   "cell_type": "markdown",
   "metadata": {},
   "source": [
    "Come si può notare, l'occupazione di memoria del dataset è stata drasticamente ridotta in seguito alle trasformazione effettuate sui dati ."
   ]
  },
  {
   "cell_type": "code",
   "execution_count": 8,
   "metadata": {},
   "outputs": [
    {
     "name": "stdout",
     "output_type": "stream",
     "text": [
      "<class 'pandas.core.frame.DataFrame'>\n",
      "RangeIndex: 2111 entries, 0 to 2110\n",
      "Data columns (total 17 columns):\n",
      " #   Column                        Non-Null Count  Dtype   \n",
      "---  ------                        --------------  -----   \n",
      " 0   gender                        2111 non-null   category\n",
      " 1   age                           2111 non-null   float64 \n",
      " 2   height                        2111 non-null   float64 \n",
      " 3   weight                        2111 non-null   float64 \n",
      " 4   overweight_in_family          2111 non-null   bool    \n",
      " 5   high_caloric_food_frequently  2111 non-null   bool    \n",
      " 6   freq_vegetables_cons          2111 non-null   category\n",
      " 7   num_meals                     2111 non-null   float64 \n",
      " 8   freq_cons_food_between_meals  2111 non-null   category\n",
      " 9   smoke                         2111 non-null   bool    \n",
      " 10  water_cons                    2111 non-null   category\n",
      " 11  cal_cons_monitoring           2111 non-null   bool    \n",
      " 12  freq_physical_activity        2111 non-null   category\n",
      " 13  time_using_technology         2111 non-null   category\n",
      " 14  freq_alcohol_cons             2111 non-null   category\n",
      " 15  transportation                2111 non-null   category\n",
      " 16  BMI_classification            2111 non-null   category\n",
      "dtypes: bool(4), category(9), float64(4)\n",
      "memory usage: 266.6 KB\n"
     ]
    }
   ],
   "source": [
    "df.info(memory_usage=\"deep\")"
   ]
  },
  {
   "cell_type": "code",
   "execution_count": 9,
   "metadata": {},
   "outputs": [
    {
     "data": {
      "text/html": [
       "<div>\n",
       "<style scoped>\n",
       "    .dataframe tbody tr th:only-of-type {\n",
       "        vertical-align: middle;\n",
       "    }\n",
       "\n",
       "    .dataframe tbody tr th {\n",
       "        vertical-align: top;\n",
       "    }\n",
       "\n",
       "    .dataframe thead th {\n",
       "        text-align: right;\n",
       "    }\n",
       "</style>\n",
       "<table border=\"1\" class=\"dataframe\">\n",
       "  <thead>\n",
       "    <tr style=\"text-align: right;\">\n",
       "      <th></th>\n",
       "      <th>gender</th>\n",
       "      <th>age</th>\n",
       "      <th>height</th>\n",
       "      <th>weight</th>\n",
       "      <th>overweight_in_family</th>\n",
       "      <th>high_caloric_food_frequently</th>\n",
       "      <th>freq_vegetables_cons</th>\n",
       "      <th>num_meals</th>\n",
       "      <th>freq_cons_food_between_meals</th>\n",
       "      <th>smoke</th>\n",
       "      <th>water_cons</th>\n",
       "      <th>cal_cons_monitoring</th>\n",
       "      <th>freq_physical_activity</th>\n",
       "      <th>time_using_technology</th>\n",
       "      <th>freq_alcohol_cons</th>\n",
       "      <th>transportation</th>\n",
       "      <th>BMI_classification</th>\n",
       "    </tr>\n",
       "  </thead>\n",
       "  <tbody>\n",
       "    <tr>\n",
       "      <th>0</th>\n",
       "      <td>Female</td>\n",
       "      <td>21.0</td>\n",
       "      <td>1.62</td>\n",
       "      <td>64.0</td>\n",
       "      <td>True</td>\n",
       "      <td>False</td>\n",
       "      <td>2.0</td>\n",
       "      <td>3.0</td>\n",
       "      <td>1</td>\n",
       "      <td>False</td>\n",
       "      <td>2.0</td>\n",
       "      <td>False</td>\n",
       "      <td>0.0</td>\n",
       "      <td>1.0</td>\n",
       "      <td>0</td>\n",
       "      <td>Public_Transportation</td>\n",
       "      <td>Normal_Weight</td>\n",
       "    </tr>\n",
       "    <tr>\n",
       "      <th>1</th>\n",
       "      <td>Female</td>\n",
       "      <td>21.0</td>\n",
       "      <td>1.52</td>\n",
       "      <td>56.0</td>\n",
       "      <td>True</td>\n",
       "      <td>False</td>\n",
       "      <td>3.0</td>\n",
       "      <td>3.0</td>\n",
       "      <td>1</td>\n",
       "      <td>True</td>\n",
       "      <td>3.0</td>\n",
       "      <td>True</td>\n",
       "      <td>3.0</td>\n",
       "      <td>0.0</td>\n",
       "      <td>1</td>\n",
       "      <td>Public_Transportation</td>\n",
       "      <td>Normal_Weight</td>\n",
       "    </tr>\n",
       "    <tr>\n",
       "      <th>2</th>\n",
       "      <td>Male</td>\n",
       "      <td>23.0</td>\n",
       "      <td>1.80</td>\n",
       "      <td>77.0</td>\n",
       "      <td>True</td>\n",
       "      <td>False</td>\n",
       "      <td>2.0</td>\n",
       "      <td>3.0</td>\n",
       "      <td>1</td>\n",
       "      <td>False</td>\n",
       "      <td>2.0</td>\n",
       "      <td>False</td>\n",
       "      <td>2.0</td>\n",
       "      <td>1.0</td>\n",
       "      <td>2</td>\n",
       "      <td>Public_Transportation</td>\n",
       "      <td>Normal_Weight</td>\n",
       "    </tr>\n",
       "    <tr>\n",
       "      <th>3</th>\n",
       "      <td>Male</td>\n",
       "      <td>27.0</td>\n",
       "      <td>1.80</td>\n",
       "      <td>87.0</td>\n",
       "      <td>False</td>\n",
       "      <td>False</td>\n",
       "      <td>3.0</td>\n",
       "      <td>3.0</td>\n",
       "      <td>1</td>\n",
       "      <td>False</td>\n",
       "      <td>2.0</td>\n",
       "      <td>False</td>\n",
       "      <td>2.0</td>\n",
       "      <td>0.0</td>\n",
       "      <td>2</td>\n",
       "      <td>Walking</td>\n",
       "      <td>Overweight_Level_I</td>\n",
       "    </tr>\n",
       "    <tr>\n",
       "      <th>4</th>\n",
       "      <td>Male</td>\n",
       "      <td>22.0</td>\n",
       "      <td>1.78</td>\n",
       "      <td>89.8</td>\n",
       "      <td>False</td>\n",
       "      <td>False</td>\n",
       "      <td>2.0</td>\n",
       "      <td>1.0</td>\n",
       "      <td>1</td>\n",
       "      <td>False</td>\n",
       "      <td>2.0</td>\n",
       "      <td>False</td>\n",
       "      <td>0.0</td>\n",
       "      <td>0.0</td>\n",
       "      <td>1</td>\n",
       "      <td>Public_Transportation</td>\n",
       "      <td>Overweight_Level_II</td>\n",
       "    </tr>\n",
       "  </tbody>\n",
       "</table>\n",
       "</div>"
      ],
      "text/plain": [
       "   gender   age  height  weight  overweight_in_family  \\\n",
       "0  Female  21.0    1.62    64.0                  True   \n",
       "1  Female  21.0    1.52    56.0                  True   \n",
       "2    Male  23.0    1.80    77.0                  True   \n",
       "3    Male  27.0    1.80    87.0                 False   \n",
       "4    Male  22.0    1.78    89.8                 False   \n",
       "\n",
       "   high_caloric_food_frequently freq_vegetables_cons  num_meals  \\\n",
       "0                         False                  2.0        3.0   \n",
       "1                         False                  3.0        3.0   \n",
       "2                         False                  2.0        3.0   \n",
       "3                         False                  3.0        3.0   \n",
       "4                         False                  2.0        1.0   \n",
       "\n",
       "  freq_cons_food_between_meals  smoke water_cons  cal_cons_monitoring  \\\n",
       "0                            1  False        2.0                False   \n",
       "1                            1   True        3.0                 True   \n",
       "2                            1  False        2.0                False   \n",
       "3                            1  False        2.0                False   \n",
       "4                            1  False        2.0                False   \n",
       "\n",
       "  freq_physical_activity time_using_technology freq_alcohol_cons  \\\n",
       "0                    0.0                   1.0                 0   \n",
       "1                    3.0                   0.0                 1   \n",
       "2                    2.0                   1.0                 2   \n",
       "3                    2.0                   0.0                 2   \n",
       "4                    0.0                   0.0                 1   \n",
       "\n",
       "          transportation   BMI_classification  \n",
       "0  Public_Transportation        Normal_Weight  \n",
       "1  Public_Transportation        Normal_Weight  \n",
       "2  Public_Transportation        Normal_Weight  \n",
       "3                Walking   Overweight_Level_I  \n",
       "4  Public_Transportation  Overweight_Level_II  "
      ]
     },
     "execution_count": 9,
     "metadata": {},
     "output_type": "execute_result"
    }
   ],
   "source": [
    "df.head()"
   ]
  },
  {
   "cell_type": "markdown",
   "metadata": {},
   "source": [
    "### Note"
   ]
  },
  {
   "cell_type": "markdown",
   "metadata": {},
   "source": [
    "Le variabili  `time_using_technology`, `freq_vegetables_cons`, `water_cons`, `freq_physical_activity` vengono presentate dal creatore del dataset come variabili categoriche che assumono valori interi nell'intervallo [0,3] per indicare diverse risposte fornite dall'utente. Nella rappresentazione effettiva del dataset, queste variabili possono assumere anche valori continui, probabilemente influenzati dal 77% dei dati generati sinteticamente. In seguito a varie prove, in cui i dati sono stati corretti per farli rientrare nei valori interi oppure in cui i dati sono stati rappresentati come valori continui anziché categorici, si è infine deciso di mantenere la rappresentazione fornita dal dataset caricato e considerare queste variabili come categoriche, poiché hanno dimostarto migliori prestazioni nei modelli studiati successivamente.\n",
    "\n",
    "Tuttavia, questa scelta influisce sul numero di variabili create; infatti,utilizzando il `OneHotEncoder`, come indicato di seguito, verrà generata una variabile con possibili valori [0,1] per ogni categoria, aumentando così il carico di dati da eleborare da parte dei vari modelli. Nonostante ciò, come già chiarito precedentemente, si è scelta questa soluzione per motivi di prestazioni dei modelli. \n",
    "\n",
    "Per le stesse motivazioni espresse in precedenza, le variabili `age` e `num_meals` vengono rappresentate come variaibli continue (float) anziché come variabili intere, come ci si aspetterebbe in un contesto reale. \n",
    "\n",
    "Per la variabile `transportation`, si è deciso di mantenere la rappresentazione dei dati sotto forma di stringhe, per una maggiore chiarezza nella lettura dei dati. "
   ]
  },
  {
   "cell_type": "markdown",
   "metadata": {},
   "source": [
    "## Analisi Esplorativa"
   ]
  },
  {
   "cell_type": "markdown",
   "metadata": {},
   "source": [
    "Eseguiamo un'analisi di base dei dati, in particolare visualizziamo il numero e la distribuzione delle classi. "
   ]
  },
  {
   "cell_type": "code",
   "execution_count": 10,
   "metadata": {},
   "outputs": [
    {
     "data": {
      "text/plain": [
       "7"
      ]
     },
     "execution_count": 10,
     "metadata": {},
     "output_type": "execute_result"
    }
   ],
   "source": [
    "len(df[\"BMI_classification\"].unique())"
   ]
  },
  {
   "cell_type": "markdown",
   "metadata": {},
   "source": [
    "In totale abbiamo 7 classi che individuano il livello di obesità di una persona, visualizziamo il numero di elementi per ogni classe e la loro distribuzione all'interno del dataset. "
   ]
  },
  {
   "cell_type": "code",
   "execution_count": 11,
   "metadata": {},
   "outputs": [
    {
     "data": {
      "text/plain": [
       "Obesity_Type_I         351\n",
       "Obesity_Type_III       324\n",
       "Obesity_Type_II        297\n",
       "Overweight_Level_I     290\n",
       "Overweight_Level_II    290\n",
       "Normal_Weight          287\n",
       "Insufficient_Weight    272\n",
       "Name: BMI_classification, dtype: int64"
      ]
     },
     "execution_count": 11,
     "metadata": {},
     "output_type": "execute_result"
    }
   ],
   "source": [
    "df[\"BMI_classification\"].value_counts()"
   ]
  },
  {
   "cell_type": "code",
   "execution_count": 12,
   "metadata": {},
   "outputs": [
    {
     "data": {
      "image/png": "[encoded data removed]",
      "text/plain": [
       "<Figure size 2000x600 with 2 Axes>"
      ]
     },
     "metadata": {},
     "output_type": "display_data"
    }
   ],
   "source": [
    "plt.figure(figsize=(20, 6))\n",
    "df[\"BMI_classification\"].value_counts().plot.pie(autopct=\"%.2f%%\",ylabel=\"\",title=\"Classificazione BMI\",ax=plt.subplot(1, 2, 1));\n",
    "df[\"BMI_classification\"].value_counts().plot.bar(title=\"Classificazione BMI\",ax=plt.subplot(1, 2, 2));"
   ]
  },
  {
   "cell_type": "markdown",
   "metadata": {},
   "source": [
    "Come si può notare dai grafici, le classi sono pressochè bilanciate. Ci aspettavamo questo risultato poichè, come indicato nel dataset, il 77% dei dati è stato generato sintenticamente proprio allo scopo di bilanciare le classi e ottenere migliori prestazioni del dataset. Nella sua forma originale, il dataset era composto solo dai dati raccolti tramite sondaggi e presentava uno sbilanciamento con predominanza della classe `Normal`.\n",
    "\n",
    "Possiamo poi ottenere e visualizzare in un grafico alcune statistiche su età, peso, altezza e numero di pasti consumati da parte di un individuo. "
   ]
  },
  {
   "cell_type": "code",
   "execution_count": 13,
   "metadata": {},
   "outputs": [
    {
     "data": {
      "text/html": [
       "<div>\n",
       "<style scoped>\n",
       "    .dataframe tbody tr th:only-of-type {\n",
       "        vertical-align: middle;\n",
       "    }\n",
       "\n",
       "    .dataframe tbody tr th {\n",
       "        vertical-align: top;\n",
       "    }\n",
       "\n",
       "    .dataframe thead th {\n",
       "        text-align: right;\n",
       "    }\n",
       "</style>\n",
       "<table border=\"1\" class=\"dataframe\">\n",
       "  <thead>\n",
       "    <tr style=\"text-align: right;\">\n",
       "      <th></th>\n",
       "      <th>age</th>\n",
       "      <th>height</th>\n",
       "      <th>weight</th>\n",
       "      <th>num_meals</th>\n",
       "    </tr>\n",
       "  </thead>\n",
       "  <tbody>\n",
       "    <tr>\n",
       "      <th>count</th>\n",
       "      <td>2111.000000</td>\n",
       "      <td>2111.000000</td>\n",
       "      <td>2111.000000</td>\n",
       "      <td>2111.000000</td>\n",
       "    </tr>\n",
       "    <tr>\n",
       "      <th>mean</th>\n",
       "      <td>24.312600</td>\n",
       "      <td>1.701677</td>\n",
       "      <td>86.586058</td>\n",
       "      <td>2.685628</td>\n",
       "    </tr>\n",
       "    <tr>\n",
       "      <th>std</th>\n",
       "      <td>6.345968</td>\n",
       "      <td>0.093305</td>\n",
       "      <td>26.191172</td>\n",
       "      <td>0.778039</td>\n",
       "    </tr>\n",
       "    <tr>\n",
       "      <th>min</th>\n",
       "      <td>14.000000</td>\n",
       "      <td>1.450000</td>\n",
       "      <td>39.000000</td>\n",
       "      <td>1.000000</td>\n",
       "    </tr>\n",
       "    <tr>\n",
       "      <th>25%</th>\n",
       "      <td>19.947192</td>\n",
       "      <td>1.630000</td>\n",
       "      <td>65.473343</td>\n",
       "      <td>2.658738</td>\n",
       "    </tr>\n",
       "    <tr>\n",
       "      <th>50%</th>\n",
       "      <td>22.777890</td>\n",
       "      <td>1.700499</td>\n",
       "      <td>83.000000</td>\n",
       "      <td>3.000000</td>\n",
       "    </tr>\n",
       "    <tr>\n",
       "      <th>75%</th>\n",
       "      <td>26.000000</td>\n",
       "      <td>1.768464</td>\n",
       "      <td>107.430682</td>\n",
       "      <td>3.000000</td>\n",
       "    </tr>\n",
       "    <tr>\n",
       "      <th>max</th>\n",
       "      <td>61.000000</td>\n",
       "      <td>1.980000</td>\n",
       "      <td>173.000000</td>\n",
       "      <td>4.000000</td>\n",
       "    </tr>\n",
       "  </tbody>\n",
       "</table>\n",
       "</div>"
      ],
      "text/plain": [
       "               age       height       weight    num_meals\n",
       "count  2111.000000  2111.000000  2111.000000  2111.000000\n",
       "mean     24.312600     1.701677    86.586058     2.685628\n",
       "std       6.345968     0.093305    26.191172     0.778039\n",
       "min      14.000000     1.450000    39.000000     1.000000\n",
       "25%      19.947192     1.630000    65.473343     2.658738\n",
       "50%      22.777890     1.700499    83.000000     3.000000\n",
       "75%      26.000000     1.768464   107.430682     3.000000\n",
       "max      61.000000     1.980000   173.000000     4.000000"
      ]
     },
     "execution_count": 13,
     "metadata": {},
     "output_type": "execute_result"
    }
   ],
   "source": [
    "df.describe()"
   ]
  },
  {
   "cell_type": "code",
   "execution_count": 14,
   "metadata": {},
   "outputs": [
    {
     "data": {
      "image/png": "[encoded data removed]",
      "text/plain": [
       "<Figure size 2000x1200 with 4 Axes>"
      ]
     },
     "metadata": {},
     "output_type": "display_data"
    }
   ],
   "source": [
    "plt.figure(figsize=(20, 12))\n",
    "for i, col in enumerate(float_vars,start=1):\n",
    "    plt.subplot(2,3,i,title=col).boxplot(df[col],showmeans=True);"
   ]
  },
  {
   "cell_type": "markdown",
   "metadata": {},
   "source": [
    "Dai grafici si nota che le serie `age` e `num_meals` presentano dati molto distanti dalla mediana (outlier).\n",
    "\n",
    "Visualizziamo ora la correlazione tra la variabile target `BMI_classification` e l'indice di massa corporea (BMI) calcolato come $\\frac{\\text{Weight}}{\\text{Height}\\times \\text{Height}}$"
   ]
  },
  {
   "cell_type": "code",
   "execution_count": 15,
   "metadata": {},
   "outputs": [
    {
     "data": {
      "image/png": "[encoded data removed]",
      "text/plain": [
       "<Figure size 2000x600 with 1 Axes>"
      ]
     },
     "metadata": {},
     "output_type": "display_data"
    }
   ],
   "source": [
    "class_colors = df[\"BMI_classification\"].map({\n",
    "    'Normal_Weight': 'Green',\n",
    "    'Overweight_Level_I': 'Yellow',\n",
    "    'Overweight_Level_II': 'Orange',\n",
    "    'Obesity_Type_I': 'Red',\n",
    "    'Insufficient_Weight': 'Blue',\n",
    "    'Obesity_Type_II': 'Purple',\n",
    "    'Obesity_Type_III': 'Brown'\n",
    "})\n",
    "plt.figure(figsize=(20, 6))\n",
    "plt.scatter(df[\"weight\"]/(df[\"height\"]**2),df[\"BMI_classification\"],c=class_colors);\n",
    "plt.xlabel(\"BMI\");\n",
    "plt.ylabel(\"BMI_Classification\");"
   ]
  },
  {
   "cell_type": "markdown",
   "metadata": {},
   "source": [
    "Dal grafico si può notare la correlazione lineare tra la `BMI_classification` e $\\frac{\\text{Weight}}{\\text{Height}\\times \\text{Height}}$, ovvero il BMI di un individuo, utilizzato per classificare il livello di obesità. Solo i dati appartenenti alla classe `Insufficient_Weight` sembrano non seguire la stessa tendenza degli altri."
   ]
  },
  {
   "cell_type": "markdown",
   "metadata": {},
   "source": [
    "## Preparazione dei dati"
   ]
  },
  {
   "cell_type": "markdown",
   "metadata": {},
   "source": [
    "Prepariamo i dati per l'addestramento dei modelli. Separiamo la variabile target `BMI_classification` dalle restanti variabili. "
   ]
  },
  {
   "cell_type": "code",
   "execution_count": 16,
   "metadata": {},
   "outputs": [],
   "source": [
    "X = df.drop(columns=[\"BMI_classification\"])\n",
    "y = df[\"BMI_classification\"]"
   ]
  },
  {
   "cell_type": "code",
   "execution_count": 17,
   "metadata": {},
   "outputs": [
    {
     "data": {
      "text/html": [
       "<div>\n",
       "<style scoped>\n",
       "    .dataframe tbody tr th:only-of-type {\n",
       "        vertical-align: middle;\n",
       "    }\n",
       "\n",
       "    .dataframe tbody tr th {\n",
       "        vertical-align: top;\n",
       "    }\n",
       "\n",
       "    .dataframe thead th {\n",
       "        text-align: right;\n",
       "    }\n",
       "</style>\n",
       "<table border=\"1\" class=\"dataframe\">\n",
       "  <thead>\n",
       "    <tr style=\"text-align: right;\">\n",
       "      <th></th>\n",
       "      <th>gender</th>\n",
       "      <th>age</th>\n",
       "      <th>height</th>\n",
       "      <th>weight</th>\n",
       "      <th>overweight_in_family</th>\n",
       "      <th>high_caloric_food_frequently</th>\n",
       "      <th>freq_vegetables_cons</th>\n",
       "      <th>num_meals</th>\n",
       "      <th>freq_cons_food_between_meals</th>\n",
       "      <th>smoke</th>\n",
       "      <th>water_cons</th>\n",
       "      <th>cal_cons_monitoring</th>\n",
       "      <th>freq_physical_activity</th>\n",
       "      <th>time_using_technology</th>\n",
       "      <th>freq_alcohol_cons</th>\n",
       "      <th>transportation</th>\n",
       "    </tr>\n",
       "  </thead>\n",
       "  <tbody>\n",
       "    <tr>\n",
       "      <th>0</th>\n",
       "      <td>Female</td>\n",
       "      <td>21.0</td>\n",
       "      <td>1.62</td>\n",
       "      <td>64.0</td>\n",
       "      <td>True</td>\n",
       "      <td>False</td>\n",
       "      <td>2.0</td>\n",
       "      <td>3.0</td>\n",
       "      <td>1</td>\n",
       "      <td>False</td>\n",
       "      <td>2.0</td>\n",
       "      <td>False</td>\n",
       "      <td>0.0</td>\n",
       "      <td>1.0</td>\n",
       "      <td>0</td>\n",
       "      <td>Public_Transportation</td>\n",
       "    </tr>\n",
       "    <tr>\n",
       "      <th>1</th>\n",
       "      <td>Female</td>\n",
       "      <td>21.0</td>\n",
       "      <td>1.52</td>\n",
       "      <td>56.0</td>\n",
       "      <td>True</td>\n",
       "      <td>False</td>\n",
       "      <td>3.0</td>\n",
       "      <td>3.0</td>\n",
       "      <td>1</td>\n",
       "      <td>True</td>\n",
       "      <td>3.0</td>\n",
       "      <td>True</td>\n",
       "      <td>3.0</td>\n",
       "      <td>0.0</td>\n",
       "      <td>1</td>\n",
       "      <td>Public_Transportation</td>\n",
       "    </tr>\n",
       "    <tr>\n",
       "      <th>2</th>\n",
       "      <td>Male</td>\n",
       "      <td>23.0</td>\n",
       "      <td>1.80</td>\n",
       "      <td>77.0</td>\n",
       "      <td>True</td>\n",
       "      <td>False</td>\n",
       "      <td>2.0</td>\n",
       "      <td>3.0</td>\n",
       "      <td>1</td>\n",
       "      <td>False</td>\n",
       "      <td>2.0</td>\n",
       "      <td>False</td>\n",
       "      <td>2.0</td>\n",
       "      <td>1.0</td>\n",
       "      <td>2</td>\n",
       "      <td>Public_Transportation</td>\n",
       "    </tr>\n",
       "    <tr>\n",
       "      <th>3</th>\n",
       "      <td>Male</td>\n",
       "      <td>27.0</td>\n",
       "      <td>1.80</td>\n",
       "      <td>87.0</td>\n",
       "      <td>False</td>\n",
       "      <td>False</td>\n",
       "      <td>3.0</td>\n",
       "      <td>3.0</td>\n",
       "      <td>1</td>\n",
       "      <td>False</td>\n",
       "      <td>2.0</td>\n",
       "      <td>False</td>\n",
       "      <td>2.0</td>\n",
       "      <td>0.0</td>\n",
       "      <td>2</td>\n",
       "      <td>Walking</td>\n",
       "    </tr>\n",
       "    <tr>\n",
       "      <th>4</th>\n",
       "      <td>Male</td>\n",
       "      <td>22.0</td>\n",
       "      <td>1.78</td>\n",
       "      <td>89.8</td>\n",
       "      <td>False</td>\n",
       "      <td>False</td>\n",
       "      <td>2.0</td>\n",
       "      <td>1.0</td>\n",
       "      <td>1</td>\n",
       "      <td>False</td>\n",
       "      <td>2.0</td>\n",
       "      <td>False</td>\n",
       "      <td>0.0</td>\n",
       "      <td>0.0</td>\n",
       "      <td>1</td>\n",
       "      <td>Public_Transportation</td>\n",
       "    </tr>\n",
       "  </tbody>\n",
       "</table>\n",
       "</div>"
      ],
      "text/plain": [
       "   gender   age  height  weight  overweight_in_family  \\\n",
       "0  Female  21.0    1.62    64.0                  True   \n",
       "1  Female  21.0    1.52    56.0                  True   \n",
       "2    Male  23.0    1.80    77.0                  True   \n",
       "3    Male  27.0    1.80    87.0                 False   \n",
       "4    Male  22.0    1.78    89.8                 False   \n",
       "\n",
       "   high_caloric_food_frequently freq_vegetables_cons  num_meals  \\\n",
       "0                         False                  2.0        3.0   \n",
       "1                         False                  3.0        3.0   \n",
       "2                         False                  2.0        3.0   \n",
       "3                         False                  3.0        3.0   \n",
       "4                         False                  2.0        1.0   \n",
       "\n",
       "  freq_cons_food_between_meals  smoke water_cons  cal_cons_monitoring  \\\n",
       "0                            1  False        2.0                False   \n",
       "1                            1   True        3.0                 True   \n",
       "2                            1  False        2.0                False   \n",
       "3                            1  False        2.0                False   \n",
       "4                            1  False        2.0                False   \n",
       "\n",
       "  freq_physical_activity time_using_technology freq_alcohol_cons  \\\n",
       "0                    0.0                   1.0                 0   \n",
       "1                    3.0                   0.0                 1   \n",
       "2                    2.0                   1.0                 2   \n",
       "3                    2.0                   0.0                 2   \n",
       "4                    0.0                   0.0                 1   \n",
       "\n",
       "          transportation  \n",
       "0  Public_Transportation  \n",
       "1  Public_Transportation  \n",
       "2  Public_Transportation  \n",
       "3                Walking  \n",
       "4  Public_Transportation  "
      ]
     },
     "execution_count": 17,
     "metadata": {},
     "output_type": "execute_result"
    }
   ],
   "source": [
    "X.head()"
   ]
  },
  {
   "cell_type": "code",
   "execution_count": 18,
   "metadata": {},
   "outputs": [
    {
     "data": {
      "text/plain": [
       "0          Normal_Weight\n",
       "1          Normal_Weight\n",
       "2          Normal_Weight\n",
       "3     Overweight_Level_I\n",
       "4    Overweight_Level_II\n",
       "Name: BMI_classification, dtype: category\n",
       "Categories (7, object): ['Insufficient_Weight', 'Normal_Weight', 'Obesity_Type_I', 'Obesity_Type_II', 'Obesity_Type_III', 'Overweight_Level_I', 'Overweight_Level_II']"
      ]
     },
     "execution_count": 18,
     "metadata": {},
     "output_type": "execute_result"
    }
   ],
   "source": [
    "y.head()"
   ]
  },
  {
   "cell_type": "markdown",
   "metadata": {},
   "source": [
    "Suddividiamo il dataset in training e test set. "
   ]
  },
  {
   "cell_type": "code",
   "execution_count": 19,
   "metadata": {},
   "outputs": [],
   "source": [
    "from sklearn.model_selection import train_test_split\n",
    "X_train, X_test, y_train, y_test = train_test_split(X, y, test_size=1/3, random_state=42)"
   ]
  },
  {
   "cell_type": "markdown",
   "metadata": {},
   "source": [
    "## Modelli"
   ]
  },
  {
   "cell_type": "markdown",
   "metadata": {},
   "source": [
    "Addestriamo e validiamo i seguenti modelli di predizione:\n",
    "- `Perceptron`\n",
    "- `LogisticRegression`\n",
    "- `DecisionTreeClassifier`\n",
    "\n",
    "Importiamo le librerie che utilizzeremo in seguito"
   ]
  },
  {
   "cell_type": "code",
   "execution_count": 20,
   "metadata": {},
   "outputs": [],
   "source": [
    "from sklearn.linear_model import Perceptron\n",
    "from sklearn.linear_model import LogisticRegression\n",
    "from sklearn.tree import DecisionTreeClassifier\n",
    "from sklearn.model_selection import StratifiedKFold\n",
    "from sklearn.model_selection import GridSearchCV\n",
    "from sklearn.compose import ColumnTransformer\n",
    "from sklearn.preprocessing import OneHotEncoder\n",
    "from sklearn.preprocessing import StandardScaler\n",
    "from sklearn.preprocessing import MinMaxScaler\n",
    "from sklearn.pipeline import Pipeline"
   ]
  },
  {
   "cell_type": "markdown",
   "metadata": {},
   "source": [
    "Definiamo una funzione, comune per ogni modello studiato, che, dato il modello e la griglia degli iperparametri, effettui una ricerca degli iperparametri che massimizzano le prestazioni del modello. Utilizziamo `GridSearchCV` per la ricerca degli iperparametri con `StratifiedKFold` con k=3."
   ]
  },
  {
   "cell_type": "code",
   "execution_count": 21,
   "metadata": {},
   "outputs": [],
   "source": [
    "skf = StratifiedKFold(3, shuffle=True, random_state=42)\n",
    "\n",
    "def grid_search(model, grid):\n",
    "    gs = GridSearchCV(model, grid, cv=skf, n_jobs=-1, scoring=\"accuracy\")\n",
    "    gs.fit(X_train, y_train)\n",
    "    return gs"
   ]
  },
  {
   "cell_type": "markdown",
   "metadata": {},
   "source": [
    "Per verificare l'affidabilità dei modelli nella predizioni, utilizziamo come metriche la matrice di confusione, la precision, il recall e il f1-score."
   ]
  },
  {
   "cell_type": "code",
   "execution_count": 22,
   "metadata": {},
   "outputs": [],
   "source": [
    "from sklearn.metrics import confusion_matrix, precision_score, recall_score, f1_score\n",
    "\n",
    "def get_confusion_matrix(model):\n",
    "    y_pred = model.predict(X_test)\n",
    "    cm = confusion_matrix(y_test, y_pred)\n",
    "    return pd.DataFrame(cm, index=model.classes_,columns=model.classes_)\n",
    "\n",
    "def get_precision_recall_f1(model):\n",
    "    y_pred = model.predict(X_test)\n",
    "    stats = pd.DataFrame([precision_score(y_test,y_pred,average=None), recall_score(y_test,y_pred,average=None), f1_score(y_test,y_pred,average=None)],index=[\"Precision\",\"Recall\",\"F1\"],columns=model.classes_)\n",
    "    average_stats = pd.Series([precision_score(y_test,y_pred,average=\"macro\"), recall_score(y_test,y_pred,average=\"macro\"), f1_score(y_test,y_pred,average=\"macro\")],index=[\"Precision\",\"Recall\",\"F1\"])\n",
    "    return stats, average_stats"
   ]
  },
  {
   "cell_type": "markdown",
   "metadata": {},
   "source": [
    "Definiamo un filtro per la trasformazione dei dati tramite `ColumnTransformer`, il filtro è comune a tutti i modelli. La configurazione dei filtri da utilizzare per i vari tipi di variabile viene valutata all'interno della `GridSearchCV`, insieme agli altri iperparametri. "
   ]
  },
  {
   "cell_type": "code",
   "execution_count": 23,
   "metadata": {},
   "outputs": [],
   "source": [
    "preprocessor = ColumnTransformer([\n",
    "    (\"numeric\", ..., float_vars),\n",
    "    (\"boolean\",..., bool_vars),\n",
    "    (\"categorical\", OneHotEncoder(handle_unknown='ignore'), [c for c in cat_vars if c != \"BMI_classification\"] )\n",
    "])"
   ]
  },
  {
   "cell_type": "markdown",
   "metadata": {},
   "source": [
    "### Perceptron"
   ]
  },
  {
   "cell_type": "markdown",
   "metadata": {},
   "source": [
    "Iniziamo lo studio dei modelli di classificazione partendo da un modello di classificazione lineare, il Perceptron. \n",
    "\n",
    "Definiamo la griglia degli iperparametri da valutare. "
   ]
  },
  {
   "cell_type": "code",
   "execution_count": 24,
   "metadata": {},
   "outputs": [],
   "source": [
    "perceptron_model = Pipeline([\n",
    "    (\"preprocessor\", preprocessor),\n",
    "    (\"perceptron\", Perceptron(random_state=42))\n",
    "])\n",
    "\n",
    "perceptron_grid = [\n",
    "    {\n",
    "        \"preprocessor__numeric\" : [\"passthrough\", StandardScaler(), MinMaxScaler()],\n",
    "        \"preprocessor__boolean\" : [\"passthrough\", StandardScaler()],\n",
    "        \"preprocessor__categorical__drop\" : [None, \"first\"],\n",
    "        'perceptron__penalty': ['l1', 'l2'],\n",
    "        'perceptron__alpha': np.logspace(-5, 3, 9),\n",
    "        'perceptron__fit_intercept': [False, True],\n",
    "    },\n",
    "    {\n",
    "        \"preprocessor__numeric\" : [\"passthrough\", StandardScaler(), MinMaxScaler()],\n",
    "        \"preprocessor__boolean\" : [\"passthrough\", StandardScaler()],\n",
    "        \"preprocessor__categorical__drop\" : [None, \"first\"],\n",
    "        'perceptron__penalty': ['elasticnet'],\n",
    "        'perceptron__alpha': np.logspace(-5, 3, 9),\n",
    "        'perceptron__l1_ratio': [0.1, 0.2, 0.3, 0.4, 0.5, 0.6, 0.7, 0.8, 0.9],\n",
    "        'perceptron__fit_intercept': [False, True],\n",
    "    },\n",
    "    {\n",
    "        \"preprocessor__numeric\" : [\"passthrough\", StandardScaler(), MinMaxScaler()],\n",
    "        \"preprocessor__boolean\" : [\"passthrough\", StandardScaler()],\n",
    "        \"preprocessor__categorical__drop\" : [None, \"first\"],\n",
    "        'perceptron__penalty': [None],\n",
    "    }\n",
    "]"
   ]
  },
  {
   "cell_type": "markdown",
   "metadata": {},
   "source": [
    "Effettuiamo la ricerca dei migliori iperparametri per `Perceptron`."
   ]
  },
  {
   "cell_type": "code",
   "execution_count": 25,
   "metadata": {},
   "outputs": [
    {
     "name": "stdout",
     "output_type": "stream",
     "text": [
      "Punteggio medio della cross validation per Perceptron: 0.7392\n"
     ]
    }
   ],
   "source": [
    "perceptron_gs = grid_search(perceptron_model, perceptron_grid)\n",
    "best_perceptron_model = perceptron_gs.best_estimator_\n",
    "print(f\"Punteggio medio della cross validation per Perceptron: {perceptron_gs.best_score_:.4f}\")"
   ]
  },
  {
   "cell_type": "markdown",
   "metadata": {},
   "source": [
    "I migliori iperparametri trovati sono: "
   ]
  },
  {
   "cell_type": "code",
   "execution_count": 26,
   "metadata": {},
   "outputs": [
    {
     "data": {
      "text/plain": [
       "{'perceptron__alpha': 1e-05,\n",
       " 'perceptron__fit_intercept': True,\n",
       " 'perceptron__penalty': 'l1',\n",
       " 'preprocessor__boolean': StandardScaler(),\n",
       " 'preprocessor__categorical__drop': None,\n",
       " 'preprocessor__numeric': StandardScaler()}"
      ]
     },
     "execution_count": 26,
     "metadata": {},
     "output_type": "execute_result"
    }
   ],
   "source": [
    "perceptron_gs.best_params_"
   ]
  },
  {
   "cell_type": "markdown",
   "metadata": {},
   "source": [
    "Valutiamo ora il modello sul test set. "
   ]
  },
  {
   "cell_type": "code",
   "execution_count": 27,
   "metadata": {},
   "outputs": [
    {
     "name": "stdout",
     "output_type": "stream",
     "text": [
      "Accuratezza di Perceptron sul test set: 0.6903\n"
     ]
    }
   ],
   "source": [
    "print(f\"Accuratezza di Perceptron sul test set: {best_perceptron_model.score(X_test,y_test):.4f}\")"
   ]
  },
  {
   "cell_type": "markdown",
   "metadata": {},
   "source": [
    "Calcoliamo ora la matrice di confusione e le altre metriche per la valutazione del modello. "
   ]
  },
  {
   "cell_type": "code",
   "execution_count": 28,
   "metadata": {},
   "outputs": [
    {
     "data": {
      "text/html": [
       "<div>\n",
       "<style scoped>\n",
       "    .dataframe tbody tr th:only-of-type {\n",
       "        vertical-align: middle;\n",
       "    }\n",
       "\n",
       "    .dataframe tbody tr th {\n",
       "        vertical-align: top;\n",
       "    }\n",
       "\n",
       "    .dataframe thead th {\n",
       "        text-align: right;\n",
       "    }\n",
       "</style>\n",
       "<table border=\"1\" class=\"dataframe\">\n",
       "  <thead>\n",
       "    <tr style=\"text-align: right;\">\n",
       "      <th></th>\n",
       "      <th>Insufficient_Weight</th>\n",
       "      <th>Normal_Weight</th>\n",
       "      <th>Obesity_Type_I</th>\n",
       "      <th>Obesity_Type_II</th>\n",
       "      <th>Obesity_Type_III</th>\n",
       "      <th>Overweight_Level_I</th>\n",
       "      <th>Overweight_Level_II</th>\n",
       "    </tr>\n",
       "  </thead>\n",
       "  <tbody>\n",
       "    <tr>\n",
       "      <th>Insufficient_Weight</th>\n",
       "      <td>85</td>\n",
       "      <td>5</td>\n",
       "      <td>0</td>\n",
       "      <td>0</td>\n",
       "      <td>0</td>\n",
       "      <td>0</td>\n",
       "      <td>0</td>\n",
       "    </tr>\n",
       "    <tr>\n",
       "      <th>Normal_Weight</th>\n",
       "      <td>9</td>\n",
       "      <td>80</td>\n",
       "      <td>9</td>\n",
       "      <td>0</td>\n",
       "      <td>0</td>\n",
       "      <td>6</td>\n",
       "      <td>1</td>\n",
       "    </tr>\n",
       "    <tr>\n",
       "      <th>Obesity_Type_I</th>\n",
       "      <td>0</td>\n",
       "      <td>0</td>\n",
       "      <td>52</td>\n",
       "      <td>8</td>\n",
       "      <td>12</td>\n",
       "      <td>23</td>\n",
       "      <td>19</td>\n",
       "    </tr>\n",
       "    <tr>\n",
       "      <th>Obesity_Type_II</th>\n",
       "      <td>0</td>\n",
       "      <td>0</td>\n",
       "      <td>6</td>\n",
       "      <td>88</td>\n",
       "      <td>2</td>\n",
       "      <td>0</td>\n",
       "      <td>0</td>\n",
       "    </tr>\n",
       "    <tr>\n",
       "      <th>Obesity_Type_III</th>\n",
       "      <td>0</td>\n",
       "      <td>0</td>\n",
       "      <td>0</td>\n",
       "      <td>1</td>\n",
       "      <td>115</td>\n",
       "      <td>0</td>\n",
       "      <td>0</td>\n",
       "    </tr>\n",
       "    <tr>\n",
       "      <th>Overweight_Level_I</th>\n",
       "      <td>11</td>\n",
       "      <td>12</td>\n",
       "      <td>11</td>\n",
       "      <td>0</td>\n",
       "      <td>1</td>\n",
       "      <td>46</td>\n",
       "      <td>13</td>\n",
       "    </tr>\n",
       "    <tr>\n",
       "      <th>Overweight_Level_II</th>\n",
       "      <td>4</td>\n",
       "      <td>6</td>\n",
       "      <td>15</td>\n",
       "      <td>0</td>\n",
       "      <td>3</td>\n",
       "      <td>41</td>\n",
       "      <td>20</td>\n",
       "    </tr>\n",
       "  </tbody>\n",
       "</table>\n",
       "</div>"
      ],
      "text/plain": [
       "                     Insufficient_Weight  Normal_Weight  Obesity_Type_I  \\\n",
       "Insufficient_Weight                   85              5               0   \n",
       "Normal_Weight                          9             80               9   \n",
       "Obesity_Type_I                         0              0              52   \n",
       "Obesity_Type_II                        0              0               6   \n",
       "Obesity_Type_III                       0              0               0   \n",
       "Overweight_Level_I                    11             12              11   \n",
       "Overweight_Level_II                    4              6              15   \n",
       "\n",
       "                     Obesity_Type_II  Obesity_Type_III  Overweight_Level_I  \\\n",
       "Insufficient_Weight                0                 0                   0   \n",
       "Normal_Weight                      0                 0                   6   \n",
       "Obesity_Type_I                     8                12                  23   \n",
       "Obesity_Type_II                   88                 2                   0   \n",
       "Obesity_Type_III                   1               115                   0   \n",
       "Overweight_Level_I                 0                 1                  46   \n",
       "Overweight_Level_II                0                 3                  41   \n",
       "\n",
       "                     Overweight_Level_II  \n",
       "Insufficient_Weight                    0  \n",
       "Normal_Weight                          1  \n",
       "Obesity_Type_I                        19  \n",
       "Obesity_Type_II                        0  \n",
       "Obesity_Type_III                       0  \n",
       "Overweight_Level_I                    13  \n",
       "Overweight_Level_II                   20  "
      ]
     },
     "execution_count": 28,
     "metadata": {},
     "output_type": "execute_result"
    }
   ],
   "source": [
    "get_confusion_matrix(best_perceptron_model)"
   ]
  },
  {
   "cell_type": "code",
   "execution_count": 29,
   "metadata": {},
   "outputs": [],
   "source": [
    "perceptron_stats, perceptron_average_stats = get_precision_recall_f1(best_perceptron_model)"
   ]
  },
  {
   "cell_type": "code",
   "execution_count": 30,
   "metadata": {},
   "outputs": [
    {
     "data": {
      "text/html": [
       "<div>\n",
       "<style scoped>\n",
       "    .dataframe tbody tr th:only-of-type {\n",
       "        vertical-align: middle;\n",
       "    }\n",
       "\n",
       "    .dataframe tbody tr th {\n",
       "        vertical-align: top;\n",
       "    }\n",
       "\n",
       "    .dataframe thead th {\n",
       "        text-align: right;\n",
       "    }\n",
       "</style>\n",
       "<table border=\"1\" class=\"dataframe\">\n",
       "  <thead>\n",
       "    <tr style=\"text-align: right;\">\n",
       "      <th></th>\n",
       "      <th>Insufficient_Weight</th>\n",
       "      <th>Normal_Weight</th>\n",
       "      <th>Obesity_Type_I</th>\n",
       "      <th>Obesity_Type_II</th>\n",
       "      <th>Obesity_Type_III</th>\n",
       "      <th>Overweight_Level_I</th>\n",
       "      <th>Overweight_Level_II</th>\n",
       "    </tr>\n",
       "  </thead>\n",
       "  <tbody>\n",
       "    <tr>\n",
       "      <th>Precision</th>\n",
       "      <td>0.779817</td>\n",
       "      <td>0.776699</td>\n",
       "      <td>0.559140</td>\n",
       "      <td>0.907216</td>\n",
       "      <td>0.864662</td>\n",
       "      <td>0.396552</td>\n",
       "      <td>0.377358</td>\n",
       "    </tr>\n",
       "    <tr>\n",
       "      <th>Recall</th>\n",
       "      <td>0.944444</td>\n",
       "      <td>0.761905</td>\n",
       "      <td>0.456140</td>\n",
       "      <td>0.916667</td>\n",
       "      <td>0.991379</td>\n",
       "      <td>0.489362</td>\n",
       "      <td>0.224719</td>\n",
       "    </tr>\n",
       "    <tr>\n",
       "      <th>F1</th>\n",
       "      <td>0.854271</td>\n",
       "      <td>0.769231</td>\n",
       "      <td>0.502415</td>\n",
       "      <td>0.911917</td>\n",
       "      <td>0.923695</td>\n",
       "      <td>0.438095</td>\n",
       "      <td>0.281690</td>\n",
       "    </tr>\n",
       "  </tbody>\n",
       "</table>\n",
       "</div>"
      ],
      "text/plain": [
       "           Insufficient_Weight  Normal_Weight  Obesity_Type_I  \\\n",
       "Precision             0.779817       0.776699        0.559140   \n",
       "Recall                0.944444       0.761905        0.456140   \n",
       "F1                    0.854271       0.769231        0.502415   \n",
       "\n",
       "           Obesity_Type_II  Obesity_Type_III  Overweight_Level_I  \\\n",
       "Precision         0.907216          0.864662            0.396552   \n",
       "Recall            0.916667          0.991379            0.489362   \n",
       "F1                0.911917          0.923695            0.438095   \n",
       "\n",
       "           Overweight_Level_II  \n",
       "Precision             0.377358  \n",
       "Recall                0.224719  \n",
       "F1                    0.281690  "
      ]
     },
     "execution_count": 30,
     "metadata": {},
     "output_type": "execute_result"
    }
   ],
   "source": [
    "perceptron_stats"
   ]
  },
  {
   "cell_type": "code",
   "execution_count": 31,
   "metadata": {},
   "outputs": [
    {
     "data": {
      "text/plain": [
       "Precision    0.665921\n",
       "Recall       0.683517\n",
       "F1           0.668759\n",
       "dtype: float64"
      ]
     },
     "execution_count": 31,
     "metadata": {},
     "output_type": "execute_result"
    }
   ],
   "source": [
    "perceptron_average_stats"
   ]
  },
  {
   "cell_type": "markdown",
   "metadata": {},
   "source": [
    "Il modello non presenta buone prestazioni, sopratutto per la classificazione delle classi `Obesity_Type_I`, `Overweight_Level_I` e `Overweight_Level_II`, che tendono ad essere classificate in livelli superiori/inferiori riseptto alla classificazione BMI."
   ]
  },
  {
   "cell_type": "markdown",
   "metadata": {},
   "source": [
    "Come già trattato in precedenza, il modo in cui sono codificate le variabili genera un numero elevato di features. "
   ]
  },
  {
   "cell_type": "code",
   "execution_count": 32,
   "metadata": {},
   "outputs": [
    {
     "data": {
      "text/plain": [
       "3021"
      ]
     },
     "execution_count": 32,
     "metadata": {},
     "output_type": "execute_result"
    }
   ],
   "source": [
    "len(best_perceptron_model[\"preprocessor\"].get_feature_names_out())"
   ]
  },
  {
   "cell_type": "markdown",
   "metadata": {},
   "source": [
    "Visualizziamo l'importanza di ciascuna features nel predirre il valore di ciascuna classe. "
   ]
  },
  {
   "cell_type": "code",
   "execution_count": 39,
   "metadata": {},
   "outputs": [
    {
     "data": {
      "text/html": [
       "<div>\n",
       "<style scoped>\n",
       "    .dataframe tbody tr th:only-of-type {\n",
       "        vertical-align: middle;\n",
       "    }\n",
       "\n",
       "    .dataframe tbody tr th {\n",
       "        vertical-align: top;\n",
       "    }\n",
       "\n",
       "    .dataframe thead th {\n",
       "        text-align: right;\n",
       "    }\n",
       "</style>\n",
       "<table border=\"1\" class=\"dataframe\">\n",
       "  <thead>\n",
       "    <tr style=\"text-align: right;\">\n",
       "      <th></th>\n",
       "      <th>Insufficient_Weight</th>\n",
       "      <th>Normal_Weight</th>\n",
       "      <th>Obesity_Type_I</th>\n",
       "      <th>Obesity_Type_II</th>\n",
       "      <th>Obesity_Type_III</th>\n",
       "      <th>Overweight_Level_I</th>\n",
       "      <th>Overweight_Level_II</th>\n",
       "    </tr>\n",
       "  </thead>\n",
       "  <tbody>\n",
       "    <tr>\n",
       "      <th>numeric__height</th>\n",
       "      <td>14.119121</td>\n",
       "      <td>1.324229</td>\n",
       "      <td>-3.808131</td>\n",
       "      <td>-5.471726</td>\n",
       "      <td>-5.201162</td>\n",
       "      <td>1.042084</td>\n",
       "      <td>-2.458580</td>\n",
       "    </tr>\n",
       "    <tr>\n",
       "      <th>numeric__weight</th>\n",
       "      <td>-53.267636</td>\n",
       "      <td>-20.401269</td>\n",
       "      <td>9.121404</td>\n",
       "      <td>20.206601</td>\n",
       "      <td>14.798633</td>\n",
       "      <td>0.284235</td>\n",
       "      <td>-0.099200</td>\n",
       "    </tr>\n",
       "    <tr>\n",
       "      <th>numeric__age</th>\n",
       "      <td>-5.945365</td>\n",
       "      <td>-0.960060</td>\n",
       "      <td>-4.340810</td>\n",
       "      <td>1.268632</td>\n",
       "      <td>-0.814454</td>\n",
       "      <td>0.005551</td>\n",
       "      <td>1.446666</td>\n",
       "    </tr>\n",
       "    <tr>\n",
       "      <th>numeric__num_meals</th>\n",
       "      <td>-2.030351</td>\n",
       "      <td>-0.221861</td>\n",
       "      <td>0.000000</td>\n",
       "      <td>-2.170440</td>\n",
       "      <td>5.147447</td>\n",
       "      <td>-0.239677</td>\n",
       "      <td>0.855894</td>\n",
       "    </tr>\n",
       "    <tr>\n",
       "      <th>boolean__overweight_in_family</th>\n",
       "      <td>-2.923662</td>\n",
       "      <td>0.000000</td>\n",
       "      <td>3.410327</td>\n",
       "      <td>0.066912</td>\n",
       "      <td>2.094594</td>\n",
       "      <td>4.098053</td>\n",
       "      <td>1.485666</td>\n",
       "    </tr>\n",
       "    <tr>\n",
       "      <th>...</th>\n",
       "      <td>...</td>\n",
       "      <td>...</td>\n",
       "      <td>...</td>\n",
       "      <td>...</td>\n",
       "      <td>...</td>\n",
       "      <td>...</td>\n",
       "      <td>...</td>\n",
       "    </tr>\n",
       "    <tr>\n",
       "      <th>categorical__transportation_Automobile</th>\n",
       "      <td>-3.760810</td>\n",
       "      <td>-10.746780</td>\n",
       "      <td>-1.549840</td>\n",
       "      <td>-7.746750</td>\n",
       "      <td>-4.901510</td>\n",
       "      <td>-2.563830</td>\n",
       "      <td>-0.760820</td>\n",
       "    </tr>\n",
       "    <tr>\n",
       "      <th>categorical__transportation_Bike</th>\n",
       "      <td>0.000000</td>\n",
       "      <td>-14.747530</td>\n",
       "      <td>-10.554040</td>\n",
       "      <td>2.747420</td>\n",
       "      <td>-0.908590</td>\n",
       "      <td>8.567190</td>\n",
       "      <td>-7.763050</td>\n",
       "    </tr>\n",
       "    <tr>\n",
       "      <th>categorical__transportation_Motorbike</th>\n",
       "      <td>-10.763360</td>\n",
       "      <td>-7.747060</td>\n",
       "      <td>9.553060</td>\n",
       "      <td>-6.748290</td>\n",
       "      <td>0.000000</td>\n",
       "      <td>-9.568040</td>\n",
       "      <td>0.000000</td>\n",
       "    </tr>\n",
       "    <tr>\n",
       "      <th>categorical__transportation_Public_Transportation</th>\n",
       "      <td>-6.760820</td>\n",
       "      <td>-9.746740</td>\n",
       "      <td>-5.549760</td>\n",
       "      <td>-1.746740</td>\n",
       "      <td>-3.901530</td>\n",
       "      <td>-0.563850</td>\n",
       "      <td>-1.760810</td>\n",
       "    </tr>\n",
       "    <tr>\n",
       "      <th>categorical__transportation_Walking</th>\n",
       "      <td>-6.761400</td>\n",
       "      <td>-11.747020</td>\n",
       "      <td>-4.550520</td>\n",
       "      <td>-1.747800</td>\n",
       "      <td>-1.901780</td>\n",
       "      <td>-1.563960</td>\n",
       "      <td>-1.761140</td>\n",
       "    </tr>\n",
       "  </tbody>\n",
       "</table>\n",
       "<p>3021 rows × 7 columns</p>\n",
       "</div>"
      ],
      "text/plain": [
       "                                                   Insufficient_Weight  \\\n",
       "numeric__height                                              14.119121   \n",
       "numeric__weight                                             -53.267636   \n",
       "numeric__age                                                 -5.945365   \n",
       "numeric__num_meals                                           -2.030351   \n",
       "boolean__overweight_in_family                                -2.923662   \n",
       "...                                                                ...   \n",
       "categorical__transportation_Automobile                       -3.760810   \n",
       "categorical__transportation_Bike                              0.000000   \n",
       "categorical__transportation_Motorbike                       -10.763360   \n",
       "categorical__transportation_Public_Transportation            -6.760820   \n",
       "categorical__transportation_Walking                          -6.761400   \n",
       "\n",
       "                                                   Normal_Weight  \\\n",
       "numeric__height                                         1.324229   \n",
       "numeric__weight                                       -20.401269   \n",
       "numeric__age                                           -0.960060   \n",
       "numeric__num_meals                                     -0.221861   \n",
       "boolean__overweight_in_family                           0.000000   \n",
       "...                                                          ...   \n",
       "categorical__transportation_Automobile                -10.746780   \n",
       "categorical__transportation_Bike                      -14.747530   \n",
       "categorical__transportation_Motorbike                  -7.747060   \n",
       "categorical__transportation_Public_Transportation      -9.746740   \n",
       "categorical__transportation_Walking                   -11.747020   \n",
       "\n",
       "                                                   Obesity_Type_I  \\\n",
       "numeric__height                                         -3.808131   \n",
       "numeric__weight                                          9.121404   \n",
       "numeric__age                                            -4.340810   \n",
       "numeric__num_meals                                       0.000000   \n",
       "boolean__overweight_in_family                            3.410327   \n",
       "...                                                           ...   \n",
       "categorical__transportation_Automobile                  -1.549840   \n",
       "categorical__transportation_Bike                       -10.554040   \n",
       "categorical__transportation_Motorbike                    9.553060   \n",
       "categorical__transportation_Public_Transportation       -5.549760   \n",
       "categorical__transportation_Walking                     -4.550520   \n",
       "\n",
       "                                                   Obesity_Type_II  \\\n",
       "numeric__height                                          -5.471726   \n",
       "numeric__weight                                          20.206601   \n",
       "numeric__age                                              1.268632   \n",
       "numeric__num_meals                                       -2.170440   \n",
       "boolean__overweight_in_family                             0.066912   \n",
       "...                                                            ...   \n",
       "categorical__transportation_Automobile                   -7.746750   \n",
       "categorical__transportation_Bike                          2.747420   \n",
       "categorical__transportation_Motorbike                    -6.748290   \n",
       "categorical__transportation_Public_Transportation        -1.746740   \n",
       "categorical__transportation_Walking                      -1.747800   \n",
       "\n",
       "                                                   Obesity_Type_III  \\\n",
       "numeric__height                                           -5.201162   \n",
       "numeric__weight                                           14.798633   \n",
       "numeric__age                                              -0.814454   \n",
       "numeric__num_meals                                         5.147447   \n",
       "boolean__overweight_in_family                              2.094594   \n",
       "...                                                             ...   \n",
       "categorical__transportation_Automobile                    -4.901510   \n",
       "categorical__transportation_Bike                          -0.908590   \n",
       "categorical__transportation_Motorbike                      0.000000   \n",
       "categorical__transportation_Public_Transportation         -3.901530   \n",
       "categorical__transportation_Walking                       -1.901780   \n",
       "\n",
       "                                                   Overweight_Level_I  \\\n",
       "numeric__height                                              1.042084   \n",
       "numeric__weight                                              0.284235   \n",
       "numeric__age                                                 0.005551   \n",
       "numeric__num_meals                                          -0.239677   \n",
       "boolean__overweight_in_family                                4.098053   \n",
       "...                                                               ...   \n",
       "categorical__transportation_Automobile                      -2.563830   \n",
       "categorical__transportation_Bike                             8.567190   \n",
       "categorical__transportation_Motorbike                       -9.568040   \n",
       "categorical__transportation_Public_Transportation           -0.563850   \n",
       "categorical__transportation_Walking                         -1.563960   \n",
       "\n",
       "                                                   Overweight_Level_II  \n",
       "numeric__height                                              -2.458580  \n",
       "numeric__weight                                              -0.099200  \n",
       "numeric__age                                                  1.446666  \n",
       "numeric__num_meals                                            0.855894  \n",
       "boolean__overweight_in_family                                 1.485666  \n",
       "...                                                                ...  \n",
       "categorical__transportation_Automobile                       -0.760820  \n",
       "categorical__transportation_Bike                             -7.763050  \n",
       "categorical__transportation_Motorbike                         0.000000  \n",
       "categorical__transportation_Public_Transportation            -1.760810  \n",
       "categorical__transportation_Walking                          -1.761140  \n",
       "\n",
       "[3021 rows x 7 columns]"
      ]
     },
     "execution_count": 39,
     "metadata": {},
     "output_type": "execute_result"
    }
   ],
   "source": [
    "perceptron_features = pd.DataFrame(best_perceptron_model[\"perceptron\"].coef_.T,index=best_perceptron_model[\"preprocessor\"].get_feature_names_out(), columns=best_perceptron_model[\"perceptron\"].classes_)\n",
    "perceptron_features"
   ]
  },
  {
   "cell_type": "markdown",
   "metadata": {},
   "source": [
    "Consideriamo ora, ad esempio, la classe `Obesity_Type_II` e visualizziamo le feature che hanno minormente e maggiormente influenzato la predizione. "
   ]
  },
  {
   "cell_type": "code",
   "execution_count": 91,
   "metadata": {},
   "outputs": [
    {
     "data": {
      "text/plain": [
       "numeric__weight                                 20.206601\n",
       "categorical__time_using_technology_2.0          10.747110\n",
       "categorical__water_cons_1.0                      6.746760\n",
       "categorical__water_cons_1.725226                 5.758030\n",
       "categorical__freq_physical_activity_0.356288     5.758030\n",
       "                                                  ...    \n",
       "categorical__freq_physical_activity_1.0         -9.746740\n",
       "categorical__freq_vegetables_cons_3.0           -9.746760\n",
       "categorical__freq_cons_food_between_meals_2    -10.746760\n",
       "categorical__freq_vegetables_cons_2.0          -17.746750\n",
       "categorical__gender_Female                     -20.746760\n",
       "Name: Obesity_Type_II, Length: 3021, dtype: float64"
      ]
     },
     "execution_count": 91,
     "metadata": {},
     "output_type": "execute_result"
    }
   ],
   "source": [
    "perceptron_features[\"Obesity_Type_II\"].sort_values(ascending=False)"
   ]
  },
  {
   "cell_type": "markdown",
   "metadata": {},
   "source": [
    "Notiamo che tra le feature che influiscono posivitamente possiamo trovare la variabile `weight`, mentre fra quelle che influiscono negativamente la variabile categorica `gender`."
   ]
  },
  {
   "cell_type": "markdown",
   "metadata": {},
   "source": [
    "### LogisticRegression"
   ]
  },
  {
   "cell_type": "markdown",
   "metadata": {},
   "source": [
    "Valutiamo ora un modello di regressione logisitica, utilizzando `LogisticRegression`\n",
    "\n",
    "Definiamo la griglia degli iperparametri da valutare. "
   ]
  },
  {
   "cell_type": "code",
   "execution_count": 72,
   "metadata": {},
   "outputs": [],
   "source": [
    "logistic_regression_model = Pipeline([\n",
    "    (\"preprocessor\", preprocessor),\n",
    "    (\"lregr\", LogisticRegression(random_state=42, solver=\"saga\"))\n",
    "])\n",
    "\n",
    "logistic_regression_grid = [\n",
    "    {\n",
    "        \"preprocessor__numeric\" : [\"passthrough\", StandardScaler(), MinMaxScaler()],\n",
    "        \"preprocessor__boolean\" : [\"passthrough\", StandardScaler()],\n",
    "        \"preprocessor__categorical__drop\" : [None, \"first\"],\n",
    "        'lregr__penalty': ['l1', 'l2'],\n",
    "        'lregr__C': np.logspace(-5, 3, 9),\n",
    "        'lregr__fit_intercept': [False, True],\n",
    "    },\n",
    "    {\n",
    "        \"preprocessor__numeric\" : [\"passthrough\", StandardScaler(), MinMaxScaler()],\n",
    "        \"preprocessor__boolean\" : [\"passthrough\", StandardScaler()],\n",
    "        \"preprocessor__categorical__drop\" : [None, \"first\"],\n",
    "        'lregr__penalty': ['elasticnet'],\n",
    "        'lregr__C': np.logspace(-5, 3, 9),\n",
    "        'lregr__l1_ratio': [0.1, 0.2, 0.3, 0.4, 0.5, 0.6, 0.7, 0.8, 0.9],\n",
    "        'lregr__fit_intercept': [False, True],\n",
    "    },\n",
    "    {\n",
    "        \"preprocessor__numeric\" : [\"passthrough\", StandardScaler(), MinMaxScaler()],\n",
    "        \"preprocessor__boolean\" : [\"passthrough\", StandardScaler()],\n",
    "        \"preprocessor__categorical__drop\" : [None, \"first\"],\n",
    "        'lregr__penalty': [None],\n",
    "    }\n",
    "]"
   ]
  },
  {
   "cell_type": "markdown",
   "metadata": {},
   "source": [
    "Inseriamo le seguenti linee di codice per ignorare i `ConvergenceWarning` generati durante la ricerca degli iperparametri migliori. "
   ]
  },
  {
   "cell_type": "code",
   "execution_count": 82,
   "metadata": {},
   "outputs": [],
   "source": [
    "import warnings\n",
    "from sklearn.exceptions import ConvergenceWarning\n",
    "warnings.simplefilter(action='ignore', category=ConvergenceWarning)"
   ]
  },
  {
   "cell_type": "markdown",
   "metadata": {},
   "source": [
    "Effettuiamo la ricerca dei migliori iperparametri per `LogisticRegression`."
   ]
  },
  {
   "cell_type": "code",
   "execution_count": 83,
   "metadata": {},
   "outputs": [
    {
     "name": "stdout",
     "output_type": "stream",
     "text": [
      "Punteggio medio della cross validation per LogisticRegression: 0.9289\n"
     ]
    }
   ],
   "source": [
    "logr_gs = grid_search(logistic_regression_model, logistic_regression_grid)\n",
    "best_logr_model = logr_gs.best_estimator_\n",
    "print(f\"Punteggio medio della cross validation per LogisticRegression: {logr_gs.best_score_:.4f}\")"
   ]
  },
  {
   "cell_type": "markdown",
   "metadata": {},
   "source": [
    "I migliori iperparametri trovati sono: "
   ]
  },
  {
   "cell_type": "code",
   "execution_count": 84,
   "metadata": {},
   "outputs": [
    {
     "data": {
      "text/plain": [
       "{'lregr__C': 1.0,\n",
       " 'lregr__fit_intercept': False,\n",
       " 'lregr__penalty': 'l1',\n",
       " 'preprocessor__boolean': 'passthrough',\n",
       " 'preprocessor__categorical__drop': None,\n",
       " 'preprocessor__numeric': StandardScaler()}"
      ]
     },
     "execution_count": 84,
     "metadata": {},
     "output_type": "execute_result"
    }
   ],
   "source": [
    "logr_gs.best_params_"
   ]
  },
  {
   "cell_type": "markdown",
   "metadata": {},
   "source": [
    "Valutiamo ora il modello sul test set. "
   ]
  },
  {
   "cell_type": "code",
   "execution_count": 85,
   "metadata": {},
   "outputs": [
    {
     "name": "stdout",
     "output_type": "stream",
     "text": [
      "Accuratezza di LogisticRegression sul test set: 0.9332\n"
     ]
    }
   ],
   "source": [
    "print(f\"Accuratezza di LogisticRegression sul test set: {best_logr_model.score(X_test,y_test):.4f}\")"
   ]
  },
  {
   "cell_type": "markdown",
   "metadata": {},
   "source": [
    "Già dal valore dell'accuratezza ottenuto si può notare un notevole miglioramento delle prestazioni del modello `LogisticRegression` rispetto al modello `Perceptron`.\n",
    "\n",
    "Calcoliamo ora la matrice di confusione e le altre metriche per la valutazione del modello."
   ]
  },
  {
   "cell_type": "code",
   "execution_count": 86,
   "metadata": {},
   "outputs": [
    {
     "data": {
      "text/html": [
       "<div>\n",
       "<style scoped>\n",
       "    .dataframe tbody tr th:only-of-type {\n",
       "        vertical-align: middle;\n",
       "    }\n",
       "\n",
       "    .dataframe tbody tr th {\n",
       "        vertical-align: top;\n",
       "    }\n",
       "\n",
       "    .dataframe thead th {\n",
       "        text-align: right;\n",
       "    }\n",
       "</style>\n",
       "<table border=\"1\" class=\"dataframe\">\n",
       "  <thead>\n",
       "    <tr style=\"text-align: right;\">\n",
       "      <th></th>\n",
       "      <th>Insufficient_Weight</th>\n",
       "      <th>Normal_Weight</th>\n",
       "      <th>Obesity_Type_I</th>\n",
       "      <th>Obesity_Type_II</th>\n",
       "      <th>Obesity_Type_III</th>\n",
       "      <th>Overweight_Level_I</th>\n",
       "      <th>Overweight_Level_II</th>\n",
       "    </tr>\n",
       "  </thead>\n",
       "  <tbody>\n",
       "    <tr>\n",
       "      <th>Insufficient_Weight</th>\n",
       "      <td>86</td>\n",
       "      <td>4</td>\n",
       "      <td>0</td>\n",
       "      <td>0</td>\n",
       "      <td>0</td>\n",
       "      <td>0</td>\n",
       "      <td>0</td>\n",
       "    </tr>\n",
       "    <tr>\n",
       "      <th>Normal_Weight</th>\n",
       "      <td>7</td>\n",
       "      <td>94</td>\n",
       "      <td>0</td>\n",
       "      <td>0</td>\n",
       "      <td>0</td>\n",
       "      <td>4</td>\n",
       "      <td>0</td>\n",
       "    </tr>\n",
       "    <tr>\n",
       "      <th>Obesity_Type_I</th>\n",
       "      <td>0</td>\n",
       "      <td>0</td>\n",
       "      <td>109</td>\n",
       "      <td>2</td>\n",
       "      <td>0</td>\n",
       "      <td>0</td>\n",
       "      <td>3</td>\n",
       "    </tr>\n",
       "    <tr>\n",
       "      <th>Obesity_Type_II</th>\n",
       "      <td>0</td>\n",
       "      <td>0</td>\n",
       "      <td>1</td>\n",
       "      <td>95</td>\n",
       "      <td>0</td>\n",
       "      <td>0</td>\n",
       "      <td>0</td>\n",
       "    </tr>\n",
       "    <tr>\n",
       "      <th>Obesity_Type_III</th>\n",
       "      <td>0</td>\n",
       "      <td>0</td>\n",
       "      <td>0</td>\n",
       "      <td>1</td>\n",
       "      <td>115</td>\n",
       "      <td>0</td>\n",
       "      <td>0</td>\n",
       "    </tr>\n",
       "    <tr>\n",
       "      <th>Overweight_Level_I</th>\n",
       "      <td>0</td>\n",
       "      <td>13</td>\n",
       "      <td>0</td>\n",
       "      <td>0</td>\n",
       "      <td>0</td>\n",
       "      <td>76</td>\n",
       "      <td>5</td>\n",
       "    </tr>\n",
       "    <tr>\n",
       "      <th>Overweight_Level_II</th>\n",
       "      <td>0</td>\n",
       "      <td>0</td>\n",
       "      <td>2</td>\n",
       "      <td>0</td>\n",
       "      <td>0</td>\n",
       "      <td>5</td>\n",
       "      <td>82</td>\n",
       "    </tr>\n",
       "  </tbody>\n",
       "</table>\n",
       "</div>"
      ],
      "text/plain": [
       "                     Insufficient_Weight  Normal_Weight  Obesity_Type_I  \\\n",
       "Insufficient_Weight                   86              4               0   \n",
       "Normal_Weight                          7             94               0   \n",
       "Obesity_Type_I                         0              0             109   \n",
       "Obesity_Type_II                        0              0               1   \n",
       "Obesity_Type_III                       0              0               0   \n",
       "Overweight_Level_I                     0             13               0   \n",
       "Overweight_Level_II                    0              0               2   \n",
       "\n",
       "                     Obesity_Type_II  Obesity_Type_III  Overweight_Level_I  \\\n",
       "Insufficient_Weight                0                 0                   0   \n",
       "Normal_Weight                      0                 0                   4   \n",
       "Obesity_Type_I                     2                 0                   0   \n",
       "Obesity_Type_II                   95                 0                   0   \n",
       "Obesity_Type_III                   1               115                   0   \n",
       "Overweight_Level_I                 0                 0                  76   \n",
       "Overweight_Level_II                0                 0                   5   \n",
       "\n",
       "                     Overweight_Level_II  \n",
       "Insufficient_Weight                    0  \n",
       "Normal_Weight                          0  \n",
       "Obesity_Type_I                         3  \n",
       "Obesity_Type_II                        0  \n",
       "Obesity_Type_III                       0  \n",
       "Overweight_Level_I                     5  \n",
       "Overweight_Level_II                   82  "
      ]
     },
     "execution_count": 86,
     "metadata": {},
     "output_type": "execute_result"
    }
   ],
   "source": [
    "get_confusion_matrix(best_logr_model)"
   ]
  },
  {
   "cell_type": "code",
   "execution_count": 87,
   "metadata": {},
   "outputs": [],
   "source": [
    "logr_stats, logr_average_stats = get_precision_recall_f1(best_logr_model)"
   ]
  },
  {
   "cell_type": "code",
   "execution_count": 88,
   "metadata": {},
   "outputs": [
    {
     "data": {
      "text/html": [
       "<div>\n",
       "<style scoped>\n",
       "    .dataframe tbody tr th:only-of-type {\n",
       "        vertical-align: middle;\n",
       "    }\n",
       "\n",
       "    .dataframe tbody tr th {\n",
       "        vertical-align: top;\n",
       "    }\n",
       "\n",
       "    .dataframe thead th {\n",
       "        text-align: right;\n",
       "    }\n",
       "</style>\n",
       "<table border=\"1\" class=\"dataframe\">\n",
       "  <thead>\n",
       "    <tr style=\"text-align: right;\">\n",
       "      <th></th>\n",
       "      <th>Insufficient_Weight</th>\n",
       "      <th>Normal_Weight</th>\n",
       "      <th>Obesity_Type_I</th>\n",
       "      <th>Obesity_Type_II</th>\n",
       "      <th>Obesity_Type_III</th>\n",
       "      <th>Overweight_Level_I</th>\n",
       "      <th>Overweight_Level_II</th>\n",
       "    </tr>\n",
       "  </thead>\n",
       "  <tbody>\n",
       "    <tr>\n",
       "      <th>Precision</th>\n",
       "      <td>0.924731</td>\n",
       "      <td>0.846847</td>\n",
       "      <td>0.973214</td>\n",
       "      <td>0.969388</td>\n",
       "      <td>1.000000</td>\n",
       "      <td>0.894118</td>\n",
       "      <td>0.911111</td>\n",
       "    </tr>\n",
       "    <tr>\n",
       "      <th>Recall</th>\n",
       "      <td>0.955556</td>\n",
       "      <td>0.895238</td>\n",
       "      <td>0.956140</td>\n",
       "      <td>0.989583</td>\n",
       "      <td>0.991379</td>\n",
       "      <td>0.808511</td>\n",
       "      <td>0.921348</td>\n",
       "    </tr>\n",
       "    <tr>\n",
       "      <th>F1</th>\n",
       "      <td>0.939891</td>\n",
       "      <td>0.870370</td>\n",
       "      <td>0.964602</td>\n",
       "      <td>0.979381</td>\n",
       "      <td>0.995671</td>\n",
       "      <td>0.849162</td>\n",
       "      <td>0.916201</td>\n",
       "    </tr>\n",
       "  </tbody>\n",
       "</table>\n",
       "</div>"
      ],
      "text/plain": [
       "           Insufficient_Weight  Normal_Weight  Obesity_Type_I  \\\n",
       "Precision             0.924731       0.846847        0.973214   \n",
       "Recall                0.955556       0.895238        0.956140   \n",
       "F1                    0.939891       0.870370        0.964602   \n",
       "\n",
       "           Obesity_Type_II  Obesity_Type_III  Overweight_Level_I  \\\n",
       "Precision         0.969388          1.000000            0.894118   \n",
       "Recall            0.989583          0.991379            0.808511   \n",
       "F1                0.979381          0.995671            0.849162   \n",
       "\n",
       "           Overweight_Level_II  \n",
       "Precision             0.911111  \n",
       "Recall                0.921348  \n",
       "F1                    0.916201  "
      ]
     },
     "execution_count": 88,
     "metadata": {},
     "output_type": "execute_result"
    }
   ],
   "source": [
    "logr_stats"
   ]
  },
  {
   "cell_type": "code",
   "execution_count": 89,
   "metadata": {},
   "outputs": [
    {
     "data": {
      "text/plain": [
       "Precision    0.931344\n",
       "Recall       0.931108\n",
       "F1           0.930754\n",
       "dtype: float64"
      ]
     },
     "execution_count": 89,
     "metadata": {},
     "output_type": "execute_result"
    }
   ],
   "source": [
    "logr_average_stats"
   ]
  },
  {
   "cell_type": "markdown",
   "metadata": {},
   "source": [
    "Dai dati ottenuti si può notare un notevole miglioramento nella previsione della giusta classe di appartenenza, in particolare per i valori delle classi per le quali, invece, si erano ottenuti risultati insoddisfacenti con il modello `Perceptron`. Gli errori di classificazione ancora presenti riguardano solo la classe inferiore o superiore a quella da prevedere. Svantaggi del modello `LogisticRegressor` è il tempo impiegato per la ricerca degli iperparametri migliori che è maggiore di circa 10 volte rispetto al tempo impiegato con `Perceptron`."
   ]
  },
  {
   "cell_type": "markdown",
   "metadata": {},
   "source": [
    "### DecisionTreeClassifier"
   ]
  },
  {
   "cell_type": "markdown",
   "metadata": {},
   "source": [
    "Infine, valutiamo un modello di classificazione basato su alberi decisionali, il `DecisionTreeClassifier`.\n",
    "\n",
    "Definiamo la griglia degli iperparametri da valutare. "
   ]
  },
  {
   "cell_type": "code",
   "execution_count": 121,
   "metadata": {},
   "outputs": [],
   "source": [
    "dtc_model = Pipeline([\n",
    "    (\"preprocessor\", preprocessor),\n",
    "    (\"dtc\", DecisionTreeClassifier(random_state=42))\n",
    "])\n",
    "\n",
    "dtc_grid = {\n",
    "    \"preprocessor__numeric\" : [\"passthrough\", StandardScaler(), MinMaxScaler()],\n",
    "    \"preprocessor__boolean\" : [\"passthrough\", StandardScaler()],\n",
    "    #\"preprocessor__categorical__drop\" : [None, \"first\"],\n",
    "    \"dtc__max_depth\" : [None, 10, 20, 30],\n",
    "    \"dtc__criterion\": ['gini', 'entropy', 'log_loss'],\n",
    "    \"dtc__min_samples_split\" : [2, 5, 10],\n",
    "    \"dtc__min_samples_leaf\" : [1, 2, 4],\n",
    "    \"dtc__max_features\" : [None, 'sqrt', 'log2'],\n",
    "}"
   ]
  },
  {
   "cell_type": "markdown",
   "metadata": {},
   "source": [
    "Effettuiamo la ricerca dei migliori iperparametri per `DecisionTreeClassifier`."
   ]
  },
  {
   "cell_type": "code",
   "execution_count": 122,
   "metadata": {},
   "outputs": [
    {
     "name": "stdout",
     "output_type": "stream",
     "text": [
      "Punteggio medio della cross validation per DecisionTreeClassifier: 0.9296\n"
     ]
    }
   ],
   "source": [
    "dtc_gs = grid_search(dtc_model, dtc_grid)\n",
    "best_dtc_model = dtc_gs.best_estimator_\n",
    "print(f\"Punteggio medio della cross validation per DecisionTreeClassifier: {dtc_gs.best_score_:.4f}\")"
   ]
  },
  {
   "cell_type": "markdown",
   "metadata": {},
   "source": [
    "I migliori iperparametri trovati sono: "
   ]
  },
  {
   "cell_type": "code",
   "execution_count": 123,
   "metadata": {},
   "outputs": [
    {
     "data": {
      "text/plain": [
       "{'dtc__criterion': 'entropy',\n",
       " 'dtc__max_depth': 10,\n",
       " 'dtc__max_features': None,\n",
       " 'dtc__min_samples_leaf': 1,\n",
       " 'dtc__min_samples_split': 5,\n",
       " 'preprocessor__boolean': 'passthrough',\n",
       " 'preprocessor__numeric': StandardScaler()}"
      ]
     },
     "execution_count": 123,
     "metadata": {},
     "output_type": "execute_result"
    }
   ],
   "source": [
    "dtc_gs.best_params_"
   ]
  },
  {
   "cell_type": "markdown",
   "metadata": {},
   "source": [
    "Inseriamo le seguenti linee di codice per ignorare gli `UserWarning`, che si presentano a causa del parametro `drop=\"first\"` utilizzato in `OneHotEncoder`."
   ]
  },
  {
   "cell_type": "code",
   "execution_count": 124,
   "metadata": {},
   "outputs": [],
   "source": [
    "warnings.simplefilter(action='ignore', category=UserWarning)"
   ]
  },
  {
   "cell_type": "markdown",
   "metadata": {},
   "source": [
    "Valutiamo ora il modello sul test set. "
   ]
  },
  {
   "cell_type": "code",
   "execution_count": 125,
   "metadata": {},
   "outputs": [
    {
     "name": "stdout",
     "output_type": "stream",
     "text": [
      "Accuratezza di DecisionTreeClassifier sul test set: 0.9446\n"
     ]
    }
   ],
   "source": [
    "print(f\"Accuratezza di DecisionTreeClassifier sul test set: {best_dtc_model.score(X_test,y_test):.4f}\")"
   ]
  },
  {
   "cell_type": "markdown",
   "metadata": {},
   "source": [
    "Calcoliamo ora la matrice di confusione e le altre metriche per la valutazione del modello."
   ]
  },
  {
   "cell_type": "code",
   "execution_count": 126,
   "metadata": {},
   "outputs": [
    {
     "data": {
      "text/html": [
       "<div>\n",
       "<style scoped>\n",
       "    .dataframe tbody tr th:only-of-type {\n",
       "        vertical-align: middle;\n",
       "    }\n",
       "\n",
       "    .dataframe tbody tr th {\n",
       "        vertical-align: top;\n",
       "    }\n",
       "\n",
       "    .dataframe thead th {\n",
       "        text-align: right;\n",
       "    }\n",
       "</style>\n",
       "<table border=\"1\" class=\"dataframe\">\n",
       "  <thead>\n",
       "    <tr style=\"text-align: right;\">\n",
       "      <th></th>\n",
       "      <th>Insufficient_Weight</th>\n",
       "      <th>Normal_Weight</th>\n",
       "      <th>Obesity_Type_I</th>\n",
       "      <th>Obesity_Type_II</th>\n",
       "      <th>Obesity_Type_III</th>\n",
       "      <th>Overweight_Level_I</th>\n",
       "      <th>Overweight_Level_II</th>\n",
       "    </tr>\n",
       "  </thead>\n",
       "  <tbody>\n",
       "    <tr>\n",
       "      <th>Insufficient_Weight</th>\n",
       "      <td>90</td>\n",
       "      <td>0</td>\n",
       "      <td>0</td>\n",
       "      <td>0</td>\n",
       "      <td>0</td>\n",
       "      <td>0</td>\n",
       "      <td>0</td>\n",
       "    </tr>\n",
       "    <tr>\n",
       "      <th>Normal_Weight</th>\n",
       "      <td>7</td>\n",
       "      <td>94</td>\n",
       "      <td>0</td>\n",
       "      <td>0</td>\n",
       "      <td>0</td>\n",
       "      <td>4</td>\n",
       "      <td>0</td>\n",
       "    </tr>\n",
       "    <tr>\n",
       "      <th>Obesity_Type_I</th>\n",
       "      <td>0</td>\n",
       "      <td>0</td>\n",
       "      <td>108</td>\n",
       "      <td>3</td>\n",
       "      <td>0</td>\n",
       "      <td>3</td>\n",
       "      <td>0</td>\n",
       "    </tr>\n",
       "    <tr>\n",
       "      <th>Obesity_Type_II</th>\n",
       "      <td>0</td>\n",
       "      <td>0</td>\n",
       "      <td>6</td>\n",
       "      <td>90</td>\n",
       "      <td>0</td>\n",
       "      <td>0</td>\n",
       "      <td>0</td>\n",
       "    </tr>\n",
       "    <tr>\n",
       "      <th>Obesity_Type_III</th>\n",
       "      <td>0</td>\n",
       "      <td>0</td>\n",
       "      <td>0</td>\n",
       "      <td>1</td>\n",
       "      <td>115</td>\n",
       "      <td>0</td>\n",
       "      <td>0</td>\n",
       "    </tr>\n",
       "    <tr>\n",
       "      <th>Overweight_Level_I</th>\n",
       "      <td>0</td>\n",
       "      <td>6</td>\n",
       "      <td>0</td>\n",
       "      <td>0</td>\n",
       "      <td>0</td>\n",
       "      <td>84</td>\n",
       "      <td>4</td>\n",
       "    </tr>\n",
       "    <tr>\n",
       "      <th>Overweight_Level_II</th>\n",
       "      <td>0</td>\n",
       "      <td>0</td>\n",
       "      <td>2</td>\n",
       "      <td>0</td>\n",
       "      <td>0</td>\n",
       "      <td>3</td>\n",
       "      <td>84</td>\n",
       "    </tr>\n",
       "  </tbody>\n",
       "</table>\n",
       "</div>"
      ],
      "text/plain": [
       "                     Insufficient_Weight  Normal_Weight  Obesity_Type_I  \\\n",
       "Insufficient_Weight                   90              0               0   \n",
       "Normal_Weight                          7             94               0   \n",
       "Obesity_Type_I                         0              0             108   \n",
       "Obesity_Type_II                        0              0               6   \n",
       "Obesity_Type_III                       0              0               0   \n",
       "Overweight_Level_I                     0              6               0   \n",
       "Overweight_Level_II                    0              0               2   \n",
       "\n",
       "                     Obesity_Type_II  Obesity_Type_III  Overweight_Level_I  \\\n",
       "Insufficient_Weight                0                 0                   0   \n",
       "Normal_Weight                      0                 0                   4   \n",
       "Obesity_Type_I                     3                 0                   3   \n",
       "Obesity_Type_II                   90                 0                   0   \n",
       "Obesity_Type_III                   1               115                   0   \n",
       "Overweight_Level_I                 0                 0                  84   \n",
       "Overweight_Level_II                0                 0                   3   \n",
       "\n",
       "                     Overweight_Level_II  \n",
       "Insufficient_Weight                    0  \n",
       "Normal_Weight                          0  \n",
       "Obesity_Type_I                         0  \n",
       "Obesity_Type_II                        0  \n",
       "Obesity_Type_III                       0  \n",
       "Overweight_Level_I                     4  \n",
       "Overweight_Level_II                   84  "
      ]
     },
     "execution_count": 126,
     "metadata": {},
     "output_type": "execute_result"
    }
   ],
   "source": [
    "get_confusion_matrix(best_dtc_model)"
   ]
  },
  {
   "cell_type": "code",
   "execution_count": 127,
   "metadata": {},
   "outputs": [],
   "source": [
    "dtc_stats, dtc_average_stats = get_precision_recall_f1(best_dtc_model)"
   ]
  },
  {
   "cell_type": "code",
   "execution_count": 128,
   "metadata": {},
   "outputs": [
    {
     "data": {
      "text/html": [
       "<div>\n",
       "<style scoped>\n",
       "    .dataframe tbody tr th:only-of-type {\n",
       "        vertical-align: middle;\n",
       "    }\n",
       "\n",
       "    .dataframe tbody tr th {\n",
       "        vertical-align: top;\n",
       "    }\n",
       "\n",
       "    .dataframe thead th {\n",
       "        text-align: right;\n",
       "    }\n",
       "</style>\n",
       "<table border=\"1\" class=\"dataframe\">\n",
       "  <thead>\n",
       "    <tr style=\"text-align: right;\">\n",
       "      <th></th>\n",
       "      <th>Insufficient_Weight</th>\n",
       "      <th>Normal_Weight</th>\n",
       "      <th>Obesity_Type_I</th>\n",
       "      <th>Obesity_Type_II</th>\n",
       "      <th>Obesity_Type_III</th>\n",
       "      <th>Overweight_Level_I</th>\n",
       "      <th>Overweight_Level_II</th>\n",
       "    </tr>\n",
       "  </thead>\n",
       "  <tbody>\n",
       "    <tr>\n",
       "      <th>Precision</th>\n",
       "      <td>0.927835</td>\n",
       "      <td>0.940000</td>\n",
       "      <td>0.931034</td>\n",
       "      <td>0.957447</td>\n",
       "      <td>1.000000</td>\n",
       "      <td>0.893617</td>\n",
       "      <td>0.954545</td>\n",
       "    </tr>\n",
       "    <tr>\n",
       "      <th>Recall</th>\n",
       "      <td>1.000000</td>\n",
       "      <td>0.895238</td>\n",
       "      <td>0.947368</td>\n",
       "      <td>0.937500</td>\n",
       "      <td>0.991379</td>\n",
       "      <td>0.893617</td>\n",
       "      <td>0.943820</td>\n",
       "    </tr>\n",
       "    <tr>\n",
       "      <th>F1</th>\n",
       "      <td>0.962567</td>\n",
       "      <td>0.917073</td>\n",
       "      <td>0.939130</td>\n",
       "      <td>0.947368</td>\n",
       "      <td>0.995671</td>\n",
       "      <td>0.893617</td>\n",
       "      <td>0.949153</td>\n",
       "    </tr>\n",
       "  </tbody>\n",
       "</table>\n",
       "</div>"
      ],
      "text/plain": [
       "           Insufficient_Weight  Normal_Weight  Obesity_Type_I  \\\n",
       "Precision             0.927835       0.940000        0.931034   \n",
       "Recall                1.000000       0.895238        0.947368   \n",
       "F1                    0.962567       0.917073        0.939130   \n",
       "\n",
       "           Obesity_Type_II  Obesity_Type_III  Overweight_Level_I  \\\n",
       "Precision         0.957447          1.000000            0.893617   \n",
       "Recall            0.937500          0.991379            0.893617   \n",
       "F1                0.947368          0.995671            0.893617   \n",
       "\n",
       "           Overweight_Level_II  \n",
       "Precision             0.954545  \n",
       "Recall                0.943820  \n",
       "F1                    0.949153  "
      ]
     },
     "execution_count": 128,
     "metadata": {},
     "output_type": "execute_result"
    }
   ],
   "source": [
    "dtc_stats"
   ]
  },
  {
   "cell_type": "code",
   "execution_count": 129,
   "metadata": {},
   "outputs": [
    {
     "data": {
      "text/plain": [
       "Precision    0.943497\n",
       "Recall       0.944132\n",
       "F1           0.943511\n",
       "dtype: float64"
      ]
     },
     "execution_count": 129,
     "metadata": {},
     "output_type": "execute_result"
    }
   ],
   "source": [
    "dtc_average_stats"
   ]
  },
  {
   "cell_type": "markdown",
   "metadata": {},
   "source": [
    "Anche in questo caso, notiamo un miglioramento nella previsione della classe di apparteenza rispetto ai modelli precedentemente ottenuti con `Perceptron` e `LogisticRegression`. Tutte le classi presentano statistiche pressoché uniformi. Inoltre, il tempo impiegato per individuare gli iperparametri del modello è simile a quello impiegato da `Perceptron`, a differenza del tempo estremamente maggiore richiesto da `LogisticRegression` per ottenere prestazioni comparabili. "
   ]
  },
  {
   "cell_type": "markdown",
   "metadata": {},
   "source": [
    "Visualizziamo l'albero decisionale ottenuto. "
   ]
  },
  {
   "cell_type": "code",
   "execution_count": 135,
   "metadata": {},
   "outputs": [
    {
     "data": {
      "image/png": "[encoded data removed]",
      "text/plain": [
       "<Figure size 2000x800 with 1 Axes>"
      ]
     },
     "metadata": {},
     "output_type": "display_data"
    }
   ],
   "source": [
    "from sklearn.tree import plot_tree\n",
    "plt.figure(figsize=(20, 8))\n",
    "plot_tree(best_dtc_model[\"dtc\"], feature_names=best_dtc_model[\"preprocessor\"].get_feature_names_out().tolist(), max_depth=3, filled=True, fontsize=8);"
   ]
  },
  {
   "cell_type": "markdown",
   "metadata": {},
   "source": [
    "## Conclusioni "
   ]
  }
 ],
 "metadata": {
  "kernelspec": {
   "display_name": "base",
   "language": "python",
   "name": "python3"
  },
  "language_info": {
   "codemirror_mode": {
    "name": "ipython",
    "version": 3
   },
   "file_extension": ".py",
   "mimetype": "text/x-python",
   "name": "python",
   "nbconvert_exporter": "python",
   "pygments_lexer": "ipython3",
   "version": "3.9.13"
  },
  "orig_nbformat": 4
 },
 "nbformat": 4,
 "nbformat_minor": 2
}
